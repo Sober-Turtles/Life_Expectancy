{
  "nbformat": 4,
  "nbformat_minor": 0,
  "metadata": {
    "colab": {
      "provenance": []
    },
    "kernelspec": {
      "name": "python3",
      "display_name": "Python 3"
    },
    "language_info": {
      "name": "python"
    }
  },
  "cells": [
    {
      "cell_type": "code",
      "execution_count": null,
      "metadata": {
        "id": "Ff0xgsGabXI3"
      },
      "outputs": [],
      "source": [
        "import numpy as np \n",
        "import pandas as pd \n",
        "import matplotlib.pyplot as plt \n",
        "import seaborn as sns\n",
        "\n",
        "from scipy.stats import skew"
      ]
    },
    {
      "cell_type": "code",
      "source": [
        "df = pd.read_excel('/content/WPP2022.xlsx',header=[1])#,header=[0,1])"
      ],
      "metadata": {
        "id": "01QNxosacj-y"
      },
      "execution_count": null,
      "outputs": []
    },
    {
      "cell_type": "code",
      "source": [
        "df.info()"
      ],
      "metadata": {
        "colab": {
          "base_uri": "https://localhost:8080/"
        },
        "id": "En0gXnS9fKkZ",
        "outputId": "b7836679-17eb-4f08-9274-7205c9d2fdcd"
      },
      "execution_count": null,
      "outputs": [
        {
          "output_type": "stream",
          "name": "stdout",
          "text": [
            "<class 'pandas.core.frame.DataFrame'>\n",
            "RangeIndex: 20596 entries, 0 to 20595\n",
            "Data columns (total 65 columns):\n",
            " #   Column                                                                                          Non-Null Count  Dtype  \n",
            "---  ------                                                                                          --------------  -----  \n",
            " 0   Index                                                                                           20596 non-null  int64  \n",
            " 1   Variant                                                                                         20596 non-null  object \n",
            " 2   Region, subregion, country or area *                                                            20596 non-null  object \n",
            " 3   Notes                                                                                           5475 non-null   object \n",
            " 4   Location code                                                                                   20596 non-null  int64  \n",
            " 5   ISO3 Alpha-code                                                                                 17064 non-null  object \n",
            " 6   ISO2 Alpha-code                                                                                 16992 non-null  object \n",
            " 7   SDMX code**                                                                                     20304 non-null  float64\n",
            " 8   Type                                                                                            20596 non-null  object \n",
            " 9   Parent code                                                                                     20596 non-null  int64  \n",
            " 10  Year                                                                                            20592 non-null  float64\n",
            " 11  Total Population, as of 1 January (thousands)                                                   20596 non-null  object \n",
            " 12  Total Population, as of 1 July (thousands)                                                      20596 non-null  object \n",
            " 13  Male Population, as of 1 July (thousands)                                                       20596 non-null  object \n",
            " 14  Female Population, as of 1 July (thousands)                                                     20596 non-null  object \n",
            " 15  Population Density, as of 1 July (persons per square km)                                        20596 non-null  object \n",
            " 16  Population Sex Ratio, as of 1 July (males per 100 females)                                      20596 non-null  object \n",
            " 17  Median Age, as of 1 July (years)                                                                20596 non-null  object \n",
            " 18  Natural Change, Births minus Deaths (thousands)                                                 20596 non-null  object \n",
            " 19  Rate of Natural Change (per 1,000 population)                                                   20596 non-null  object \n",
            " 20  Population Change (thousands)                                                                   20596 non-null  object \n",
            " 21  Population Growth Rate (percentage)                                                             20596 non-null  object \n",
            " 22  Population Annual Doubling Time (years)                                                         20596 non-null  object \n",
            " 23  Births (thousands)                                                                              20596 non-null  object \n",
            " 24  Births by women aged 15 to 19 (thousands)                                                       20596 non-null  object \n",
            " 25  Crude Birth Rate (births per 1,000 population)                                                  20596 non-null  object \n",
            " 26  Total Fertility Rate (live births per woman)                                                    20596 non-null  object \n",
            " 27  Net Reproduction Rate (surviving daughters per woman)                                           20596 non-null  object \n",
            " 28  Mean Age Childbearing (years)                                                                   20596 non-null  object \n",
            " 29  Sex Ratio at Birth (males per 100 female births)                                                20596 non-null  object \n",
            " 30  Total Deaths (thousands)                                                                        20596 non-null  object \n",
            " 31  Male Deaths (thousands)                                                                         20596 non-null  object \n",
            " 32  Female Deaths (thousands)                                                                       20596 non-null  object \n",
            " 33  Crude Death Rate (deaths per 1,000 population)                                                  20596 non-null  object \n",
            " 34  Life Expectancy at Birth, both sexes (years)                                                    20596 non-null  object \n",
            " 35  Male Life Expectancy at Birth (years)                                                           20596 non-null  object \n",
            " 36  Female Life Expectancy at Birth (years)                                                         20596 non-null  object \n",
            " 37  Life Expectancy at Age 15, both sexes (years)                                                   20596 non-null  object \n",
            " 38  Male Life Expectancy at Age 15 (years)                                                          20596 non-null  object \n",
            " 39  Female Life Expectancy at Age 15 (years)                                                        20596 non-null  object \n",
            " 40  Life Expectancy at Age 65, both sexes (years)                                                   20596 non-null  object \n",
            " 41  Male Life Expectancy at Age 65 (years)                                                          20596 non-null  object \n",
            " 42  Female Life Expectancy at Age 65 (years)                                                        20596 non-null  object \n",
            " 43  Life Expectancy at Age 80, both sexes (years)                                                   20596 non-null  object \n",
            " 44  Male Life Expectancy at Age 80 (years)                                                          20596 non-null  object \n",
            " 45  Female Life Expectancy at Age 80 (years)                                                        20596 non-null  object \n",
            " 46  Infant Deaths, under age 1 (thousands)                                                          20596 non-null  object \n",
            " 47  Infant Mortality Rate (infant deaths per 1,000 live births)                                     20596 non-null  object \n",
            " 48  Live Births Surviving to Age 1 (thousands)                                                      20596 non-null  object \n",
            " 49  Under-Five Deaths, under age 5 (thousands)                                                      20596 non-null  object \n",
            " 50  Under-Five Mortality (deaths under age 5 per 1,000 live births)                                 20596 non-null  object \n",
            " 51  Mortality before Age 40, both sexes (deaths under age 40 per 1,000 live births)                 20596 non-null  object \n",
            " 52  Male Mortality before Age 40 (deaths under age 40 per 1,000 male live births)                   20596 non-null  object \n",
            " 53  Female Mortality before Age 40 (deaths under age 40 per 1,000 female live births)               20596 non-null  object \n",
            " 54  Mortality before Age 60, both sexes (deaths under age 60 per 1,000 live births)                 20596 non-null  object \n",
            " 55  Male Mortality before Age 60 (deaths under age 60 per 1,000 male live births)                   20596 non-null  object \n",
            " 56  Female Mortality before Age 60 (deaths under age 60 per 1,000 female live births)               20596 non-null  object \n",
            " 57  Mortality between Age 15 and 50, both sexes (deaths under age 50 per 1,000 alive at age 15)     20596 non-null  object \n",
            " 58  Male Mortality between Age 15 and 50 (deaths under age 50 per 1,000 males alive at age 15)      20596 non-null  object \n",
            " 59  Female Mortality between Age 15 and 50 (deaths under age 50 per 1,000 females alive at age 15)  20596 non-null  object \n",
            " 60  Mortality between Age 15 and 60, both sexes (deaths under age 60 per 1,000 alive at age 15)     20596 non-null  object \n",
            " 61  Male Mortality between Age 15 and 60 (deaths under age 60 per 1,000 males alive at age 15)      20596 non-null  object \n",
            " 62  Female Mortality between Age 15 and 60 (deaths under age 60 per 1,000 females alive at age 15)  20596 non-null  object \n",
            " 63  Net Number of Migrants (thousands)                                                              20596 non-null  object \n",
            " 64  Net Migration Rate (per 1,000 population)                                                       20596 non-null  object \n",
            "dtypes: float64(2), int64(3), object(60)\n",
            "memory usage: 10.2+ MB\n"
          ]
        }
      ]
    },
    {
      "cell_type": "code",
      "source": [
        "df.head(10)"
      ],
      "metadata": {
        "colab": {
          "base_uri": "https://localhost:8080/",
          "height": 647
        },
        "id": "fi5V2my2fO2p",
        "outputId": "9949b6c4-ad1a-4ddf-8115-a66f13794e67"
      },
      "execution_count": null,
      "outputs": [
        {
          "output_type": "execute_result",
          "data": {
            "text/plain": [
              "   Index    Variant Region, subregion, country or area * Notes  Location code  \\\n",
              "0      1  Estimates                                WORLD   NaN            900   \n",
              "1      2  Estimates                                WORLD   NaN            900   \n",
              "2      3  Estimates                                WORLD   NaN            900   \n",
              "3      4  Estimates                                WORLD   NaN            900   \n",
              "4      5  Estimates                                WORLD   NaN            900   \n",
              "5      6  Estimates                                WORLD   NaN            900   \n",
              "6      7  Estimates                                WORLD   NaN            900   \n",
              "7      8  Estimates                                WORLD   NaN            900   \n",
              "8      9  Estimates                                WORLD   NaN            900   \n",
              "9     10  Estimates                                WORLD   NaN            900   \n",
              "\n",
              "  ISO3 Alpha-code ISO2 Alpha-code  SDMX code**   Type  Parent code  ...  \\\n",
              "0             NaN             NaN          1.0  World            0  ...   \n",
              "1             NaN             NaN          1.0  World            0  ...   \n",
              "2             NaN             NaN          1.0  World            0  ...   \n",
              "3             NaN             NaN          1.0  World            0  ...   \n",
              "4             NaN             NaN          1.0  World            0  ...   \n",
              "5             NaN             NaN          1.0  World            0  ...   \n",
              "6             NaN             NaN          1.0  World            0  ...   \n",
              "7             NaN             NaN          1.0  World            0  ...   \n",
              "8             NaN             NaN          1.0  World            0  ...   \n",
              "9             NaN             NaN          1.0  World            0  ...   \n",
              "\n",
              "   Male Mortality before Age 60 (deaths under age 60 per 1,000 male live births)  \\\n",
              "0                                             580.75                               \n",
              "1                                            566.728                               \n",
              "2                                            546.317                               \n",
              "3                                            535.829                               \n",
              "4                                            523.124                               \n",
              "5                                            516.007                               \n",
              "6                                            508.471                               \n",
              "7                                            504.774                               \n",
              "8                                            496.658                               \n",
              "9                                            528.891                               \n",
              "\n",
              "  Female Mortality before Age 60 (deaths under age 60 per 1,000 female live births)  \\\n",
              "0                                             498.04                                  \n",
              "1                                            490.199                                  \n",
              "2                                            477.264                                  \n",
              "3                                            469.532                                  \n",
              "4                                            458.484                                  \n",
              "5                                             450.27                                  \n",
              "6                                            442.395                                  \n",
              "7                                            438.188                                  \n",
              "8                                            429.752                                  \n",
              "9                                            459.912                                  \n",
              "\n",
              "  Mortality between Age 15 and 50, both sexes (deaths under age 50 per 1,000 alive at age 15)  \\\n",
              "0                                            240.316                                            \n",
              "1                                            231.177                                            \n",
              "2                                            218.674                                            \n",
              "3                                            212.872                                            \n",
              "4                                            205.762                                            \n",
              "5                                            201.979                                            \n",
              "6                                            197.995                                            \n",
              "7                                            196.107                                            \n",
              "8                                            192.057                                            \n",
              "9                                            205.001                                            \n",
              "\n",
              "  Male Mortality between Age 15 and 50 (deaths under age 50 per 1,000 males alive at age 15)  \\\n",
              "0                                            271.625                                           \n",
              "1                                             258.09                                           \n",
              "2                                            240.034                                           \n",
              "3                                            232.602                                           \n",
              "4                                             224.05                                           \n",
              "5                                            220.302                                           \n",
              "6                                            216.168                                           \n",
              "7                                            214.198                                           \n",
              "8                                            210.279                                           \n",
              "9                                            226.102                                           \n",
              "\n",
              "  Female Mortality between Age 15 and 50 (deaths under age 50 per 1,000 females alive at age 15)  \\\n",
              "0                                            208.192                                               \n",
              "1                                             203.78                                               \n",
              "2                                            197.142                                               \n",
              "3                                            193.049                                               \n",
              "4                                            187.444                                               \n",
              "5                                            183.623                                               \n",
              "6                                             179.79                                               \n",
              "7                                            177.988                                               \n",
              "8                                            173.788                                               \n",
              "9                                            183.697                                               \n",
              "\n",
              "  Mortality between Age 15 and 60, both sexes (deaths under age 60 per 1,000 alive at age 15)  \\\n",
              "0                                            378.697                                            \n",
              "1                                            368.319                                            \n",
              "2                                            353.055                                            \n",
              "3                                            345.083                                            \n",
              "4                                            335.442                                            \n",
              "5                                             330.37                                            \n",
              "6                                             325.16                                            \n",
              "7                                            323.135                                            \n",
              "8                                            316.785                                            \n",
              "9                                            335.776                                            \n",
              "\n",
              "  Male Mortality between Age 15 and 60 (deaths under age 60 per 1,000 males alive at age 15)  \\\n",
              "0                                            430.259                                           \n",
              "1                                            415.836                                           \n",
              "2                                            395.533                                           \n",
              "3                                            385.843                                           \n",
              "4                                            374.658                                           \n",
              "5                                            369.908                                           \n",
              "6                                            364.653                                           \n",
              "7                                            362.758                                           \n",
              "8                                            356.281                                           \n",
              "9                                            378.147                                           \n",
              "\n",
              "  Female Mortality between Age 15 and 60 (deaths under age 60 per 1,000 females alive at age 15)  \\\n",
              "0                                            324.931                                               \n",
              "1                                            319.336                                               \n",
              "2                                             309.91                                               \n",
              "3                                            303.905                                               \n",
              "4                                            295.994                                               \n",
              "5                                            290.578                                               \n",
              "6                                            285.419                                               \n",
              "7                                            283.264                                               \n",
              "8                                            277.048                                               \n",
              "9                                            292.818                                               \n",
              "\n",
              "  Net Number of Migrants (thousands) Net Migration Rate (per 1,000 population)  \n",
              "0                                  0                                         0  \n",
              "1                                  0                                         0  \n",
              "2                                  0                                         0  \n",
              "3                                  0                                         0  \n",
              "4                                  0                                         0  \n",
              "5                                  0                                         0  \n",
              "6                                  0                                         0  \n",
              "7                                  0                                         0  \n",
              "8                                  0                                         0  \n",
              "9                                  0                                         0  \n",
              "\n",
              "[10 rows x 65 columns]"
            ],
            "text/html": [
              "\n",
              "  <div id=\"df-c91705b2-b7d0-4303-80ae-070ac3af6b7b\">\n",
              "    <div class=\"colab-df-container\">\n",
              "      <div>\n",
              "<style scoped>\n",
              "    .dataframe tbody tr th:only-of-type {\n",
              "        vertical-align: middle;\n",
              "    }\n",
              "\n",
              "    .dataframe tbody tr th {\n",
              "        vertical-align: top;\n",
              "    }\n",
              "\n",
              "    .dataframe thead th {\n",
              "        text-align: right;\n",
              "    }\n",
              "</style>\n",
              "<table border=\"1\" class=\"dataframe\">\n",
              "  <thead>\n",
              "    <tr style=\"text-align: right;\">\n",
              "      <th></th>\n",
              "      <th>Index</th>\n",
              "      <th>Variant</th>\n",
              "      <th>Region, subregion, country or area *</th>\n",
              "      <th>Notes</th>\n",
              "      <th>Location code</th>\n",
              "      <th>ISO3 Alpha-code</th>\n",
              "      <th>ISO2 Alpha-code</th>\n",
              "      <th>SDMX code**</th>\n",
              "      <th>Type</th>\n",
              "      <th>Parent code</th>\n",
              "      <th>...</th>\n",
              "      <th>Male Mortality before Age 60 (deaths under age 60 per 1,000 male live births)</th>\n",
              "      <th>Female Mortality before Age 60 (deaths under age 60 per 1,000 female live births)</th>\n",
              "      <th>Mortality between Age 15 and 50, both sexes (deaths under age 50 per 1,000 alive at age 15)</th>\n",
              "      <th>Male Mortality between Age 15 and 50 (deaths under age 50 per 1,000 males alive at age 15)</th>\n",
              "      <th>Female Mortality between Age 15 and 50 (deaths under age 50 per 1,000 females alive at age 15)</th>\n",
              "      <th>Mortality between Age 15 and 60, both sexes (deaths under age 60 per 1,000 alive at age 15)</th>\n",
              "      <th>Male Mortality between Age 15 and 60 (deaths under age 60 per 1,000 males alive at age 15)</th>\n",
              "      <th>Female Mortality between Age 15 and 60 (deaths under age 60 per 1,000 females alive at age 15)</th>\n",
              "      <th>Net Number of Migrants (thousands)</th>\n",
              "      <th>Net Migration Rate (per 1,000 population)</th>\n",
              "    </tr>\n",
              "  </thead>\n",
              "  <tbody>\n",
              "    <tr>\n",
              "      <th>0</th>\n",
              "      <td>1</td>\n",
              "      <td>Estimates</td>\n",
              "      <td>WORLD</td>\n",
              "      <td>NaN</td>\n",
              "      <td>900</td>\n",
              "      <td>NaN</td>\n",
              "      <td>NaN</td>\n",
              "      <td>1.0</td>\n",
              "      <td>World</td>\n",
              "      <td>0</td>\n",
              "      <td>...</td>\n",
              "      <td>580.75</td>\n",
              "      <td>498.04</td>\n",
              "      <td>240.316</td>\n",
              "      <td>271.625</td>\n",
              "      <td>208.192</td>\n",
              "      <td>378.697</td>\n",
              "      <td>430.259</td>\n",
              "      <td>324.931</td>\n",
              "      <td>0</td>\n",
              "      <td>0</td>\n",
              "    </tr>\n",
              "    <tr>\n",
              "      <th>1</th>\n",
              "      <td>2</td>\n",
              "      <td>Estimates</td>\n",
              "      <td>WORLD</td>\n",
              "      <td>NaN</td>\n",
              "      <td>900</td>\n",
              "      <td>NaN</td>\n",
              "      <td>NaN</td>\n",
              "      <td>1.0</td>\n",
              "      <td>World</td>\n",
              "      <td>0</td>\n",
              "      <td>...</td>\n",
              "      <td>566.728</td>\n",
              "      <td>490.199</td>\n",
              "      <td>231.177</td>\n",
              "      <td>258.09</td>\n",
              "      <td>203.78</td>\n",
              "      <td>368.319</td>\n",
              "      <td>415.836</td>\n",
              "      <td>319.336</td>\n",
              "      <td>0</td>\n",
              "      <td>0</td>\n",
              "    </tr>\n",
              "    <tr>\n",
              "      <th>2</th>\n",
              "      <td>3</td>\n",
              "      <td>Estimates</td>\n",
              "      <td>WORLD</td>\n",
              "      <td>NaN</td>\n",
              "      <td>900</td>\n",
              "      <td>NaN</td>\n",
              "      <td>NaN</td>\n",
              "      <td>1.0</td>\n",
              "      <td>World</td>\n",
              "      <td>0</td>\n",
              "      <td>...</td>\n",
              "      <td>546.317</td>\n",
              "      <td>477.264</td>\n",
              "      <td>218.674</td>\n",
              "      <td>240.034</td>\n",
              "      <td>197.142</td>\n",
              "      <td>353.055</td>\n",
              "      <td>395.533</td>\n",
              "      <td>309.91</td>\n",
              "      <td>0</td>\n",
              "      <td>0</td>\n",
              "    </tr>\n",
              "    <tr>\n",
              "      <th>3</th>\n",
              "      <td>4</td>\n",
              "      <td>Estimates</td>\n",
              "      <td>WORLD</td>\n",
              "      <td>NaN</td>\n",
              "      <td>900</td>\n",
              "      <td>NaN</td>\n",
              "      <td>NaN</td>\n",
              "      <td>1.0</td>\n",
              "      <td>World</td>\n",
              "      <td>0</td>\n",
              "      <td>...</td>\n",
              "      <td>535.829</td>\n",
              "      <td>469.532</td>\n",
              "      <td>212.872</td>\n",
              "      <td>232.602</td>\n",
              "      <td>193.049</td>\n",
              "      <td>345.083</td>\n",
              "      <td>385.843</td>\n",
              "      <td>303.905</td>\n",
              "      <td>0</td>\n",
              "      <td>0</td>\n",
              "    </tr>\n",
              "    <tr>\n",
              "      <th>4</th>\n",
              "      <td>5</td>\n",
              "      <td>Estimates</td>\n",
              "      <td>WORLD</td>\n",
              "      <td>NaN</td>\n",
              "      <td>900</td>\n",
              "      <td>NaN</td>\n",
              "      <td>NaN</td>\n",
              "      <td>1.0</td>\n",
              "      <td>World</td>\n",
              "      <td>0</td>\n",
              "      <td>...</td>\n",
              "      <td>523.124</td>\n",
              "      <td>458.484</td>\n",
              "      <td>205.762</td>\n",
              "      <td>224.05</td>\n",
              "      <td>187.444</td>\n",
              "      <td>335.442</td>\n",
              "      <td>374.658</td>\n",
              "      <td>295.994</td>\n",
              "      <td>0</td>\n",
              "      <td>0</td>\n",
              "    </tr>\n",
              "    <tr>\n",
              "      <th>5</th>\n",
              "      <td>6</td>\n",
              "      <td>Estimates</td>\n",
              "      <td>WORLD</td>\n",
              "      <td>NaN</td>\n",
              "      <td>900</td>\n",
              "      <td>NaN</td>\n",
              "      <td>NaN</td>\n",
              "      <td>1.0</td>\n",
              "      <td>World</td>\n",
              "      <td>0</td>\n",
              "      <td>...</td>\n",
              "      <td>516.007</td>\n",
              "      <td>450.27</td>\n",
              "      <td>201.979</td>\n",
              "      <td>220.302</td>\n",
              "      <td>183.623</td>\n",
              "      <td>330.37</td>\n",
              "      <td>369.908</td>\n",
              "      <td>290.578</td>\n",
              "      <td>0</td>\n",
              "      <td>0</td>\n",
              "    </tr>\n",
              "    <tr>\n",
              "      <th>6</th>\n",
              "      <td>7</td>\n",
              "      <td>Estimates</td>\n",
              "      <td>WORLD</td>\n",
              "      <td>NaN</td>\n",
              "      <td>900</td>\n",
              "      <td>NaN</td>\n",
              "      <td>NaN</td>\n",
              "      <td>1.0</td>\n",
              "      <td>World</td>\n",
              "      <td>0</td>\n",
              "      <td>...</td>\n",
              "      <td>508.471</td>\n",
              "      <td>442.395</td>\n",
              "      <td>197.995</td>\n",
              "      <td>216.168</td>\n",
              "      <td>179.79</td>\n",
              "      <td>325.16</td>\n",
              "      <td>364.653</td>\n",
              "      <td>285.419</td>\n",
              "      <td>0</td>\n",
              "      <td>0</td>\n",
              "    </tr>\n",
              "    <tr>\n",
              "      <th>7</th>\n",
              "      <td>8</td>\n",
              "      <td>Estimates</td>\n",
              "      <td>WORLD</td>\n",
              "      <td>NaN</td>\n",
              "      <td>900</td>\n",
              "      <td>NaN</td>\n",
              "      <td>NaN</td>\n",
              "      <td>1.0</td>\n",
              "      <td>World</td>\n",
              "      <td>0</td>\n",
              "      <td>...</td>\n",
              "      <td>504.774</td>\n",
              "      <td>438.188</td>\n",
              "      <td>196.107</td>\n",
              "      <td>214.198</td>\n",
              "      <td>177.988</td>\n",
              "      <td>323.135</td>\n",
              "      <td>362.758</td>\n",
              "      <td>283.264</td>\n",
              "      <td>0</td>\n",
              "      <td>0</td>\n",
              "    </tr>\n",
              "    <tr>\n",
              "      <th>8</th>\n",
              "      <td>9</td>\n",
              "      <td>Estimates</td>\n",
              "      <td>WORLD</td>\n",
              "      <td>NaN</td>\n",
              "      <td>900</td>\n",
              "      <td>NaN</td>\n",
              "      <td>NaN</td>\n",
              "      <td>1.0</td>\n",
              "      <td>World</td>\n",
              "      <td>0</td>\n",
              "      <td>...</td>\n",
              "      <td>496.658</td>\n",
              "      <td>429.752</td>\n",
              "      <td>192.057</td>\n",
              "      <td>210.279</td>\n",
              "      <td>173.788</td>\n",
              "      <td>316.785</td>\n",
              "      <td>356.281</td>\n",
              "      <td>277.048</td>\n",
              "      <td>0</td>\n",
              "      <td>0</td>\n",
              "    </tr>\n",
              "    <tr>\n",
              "      <th>9</th>\n",
              "      <td>10</td>\n",
              "      <td>Estimates</td>\n",
              "      <td>WORLD</td>\n",
              "      <td>NaN</td>\n",
              "      <td>900</td>\n",
              "      <td>NaN</td>\n",
              "      <td>NaN</td>\n",
              "      <td>1.0</td>\n",
              "      <td>World</td>\n",
              "      <td>0</td>\n",
              "      <td>...</td>\n",
              "      <td>528.891</td>\n",
              "      <td>459.912</td>\n",
              "      <td>205.001</td>\n",
              "      <td>226.102</td>\n",
              "      <td>183.697</td>\n",
              "      <td>335.776</td>\n",
              "      <td>378.147</td>\n",
              "      <td>292.818</td>\n",
              "      <td>0</td>\n",
              "      <td>0</td>\n",
              "    </tr>\n",
              "  </tbody>\n",
              "</table>\n",
              "<p>10 rows × 65 columns</p>\n",
              "</div>\n",
              "      <button class=\"colab-df-convert\" onclick=\"convertToInteractive('df-c91705b2-b7d0-4303-80ae-070ac3af6b7b')\"\n",
              "              title=\"Convert this dataframe to an interactive table.\"\n",
              "              style=\"display:none;\">\n",
              "        \n",
              "  <svg xmlns=\"http://www.w3.org/2000/svg\" height=\"24px\"viewBox=\"0 0 24 24\"\n",
              "       width=\"24px\">\n",
              "    <path d=\"M0 0h24v24H0V0z\" fill=\"none\"/>\n",
              "    <path d=\"M18.56 5.44l.94 2.06.94-2.06 2.06-.94-2.06-.94-.94-2.06-.94 2.06-2.06.94zm-11 1L8.5 8.5l.94-2.06 2.06-.94-2.06-.94L8.5 2.5l-.94 2.06-2.06.94zm10 10l.94 2.06.94-2.06 2.06-.94-2.06-.94-.94-2.06-.94 2.06-2.06.94z\"/><path d=\"M17.41 7.96l-1.37-1.37c-.4-.4-.92-.59-1.43-.59-.52 0-1.04.2-1.43.59L10.3 9.45l-7.72 7.72c-.78.78-.78 2.05 0 2.83L4 21.41c.39.39.9.59 1.41.59.51 0 1.02-.2 1.41-.59l7.78-7.78 2.81-2.81c.8-.78.8-2.07 0-2.86zM5.41 20L4 18.59l7.72-7.72 1.47 1.35L5.41 20z\"/>\n",
              "  </svg>\n",
              "      </button>\n",
              "      \n",
              "  <style>\n",
              "    .colab-df-container {\n",
              "      display:flex;\n",
              "      flex-wrap:wrap;\n",
              "      gap: 12px;\n",
              "    }\n",
              "\n",
              "    .colab-df-convert {\n",
              "      background-color: #E8F0FE;\n",
              "      border: none;\n",
              "      border-radius: 50%;\n",
              "      cursor: pointer;\n",
              "      display: none;\n",
              "      fill: #1967D2;\n",
              "      height: 32px;\n",
              "      padding: 0 0 0 0;\n",
              "      width: 32px;\n",
              "    }\n",
              "\n",
              "    .colab-df-convert:hover {\n",
              "      background-color: #E2EBFA;\n",
              "      box-shadow: 0px 1px 2px rgba(60, 64, 67, 0.3), 0px 1px 3px 1px rgba(60, 64, 67, 0.15);\n",
              "      fill: #174EA6;\n",
              "    }\n",
              "\n",
              "    [theme=dark] .colab-df-convert {\n",
              "      background-color: #3B4455;\n",
              "      fill: #D2E3FC;\n",
              "    }\n",
              "\n",
              "    [theme=dark] .colab-df-convert:hover {\n",
              "      background-color: #434B5C;\n",
              "      box-shadow: 0px 1px 3px 1px rgba(0, 0, 0, 0.15);\n",
              "      filter: drop-shadow(0px 1px 2px rgba(0, 0, 0, 0.3));\n",
              "      fill: #FFFFFF;\n",
              "    }\n",
              "  </style>\n",
              "\n",
              "      <script>\n",
              "        const buttonEl =\n",
              "          document.querySelector('#df-c91705b2-b7d0-4303-80ae-070ac3af6b7b button.colab-df-convert');\n",
              "        buttonEl.style.display =\n",
              "          google.colab.kernel.accessAllowed ? 'block' : 'none';\n",
              "\n",
              "        async function convertToInteractive(key) {\n",
              "          const element = document.querySelector('#df-c91705b2-b7d0-4303-80ae-070ac3af6b7b');\n",
              "          const dataTable =\n",
              "            await google.colab.kernel.invokeFunction('convertToInteractive',\n",
              "                                                     [key], {});\n",
              "          if (!dataTable) return;\n",
              "\n",
              "          const docLinkHtml = 'Like what you see? Visit the ' +\n",
              "            '<a target=\"_blank\" href=https://colab.research.google.com/notebooks/data_table.ipynb>data table notebook</a>'\n",
              "            + ' to learn more about interactive tables.';\n",
              "          element.innerHTML = '';\n",
              "          dataTable['output_type'] = 'display_data';\n",
              "          await google.colab.output.renderOutput(dataTable, element);\n",
              "          const docLink = document.createElement('div');\n",
              "          docLink.innerHTML = docLinkHtml;\n",
              "          element.appendChild(docLink);\n",
              "        }\n",
              "      </script>\n",
              "    </div>\n",
              "  </div>\n",
              "  "
            ]
          },
          "metadata": {},
          "execution_count": 5
        }
      ]
    },
    {
      "cell_type": "code",
      "source": [
        "df.columns"
      ],
      "metadata": {
        "colab": {
          "base_uri": "https://localhost:8080/"
        },
        "id": "302VVF5Hh5Ir",
        "outputId": "2b80b3e0-4af6-41f5-d3b0-54cd5388e1e7"
      },
      "execution_count": null,
      "outputs": [
        {
          "output_type": "execute_result",
          "data": {
            "text/plain": [
              "Index(['Index', 'Variant', 'Region, subregion, country or area *', 'Notes',\n",
              "       'Location code', 'ISO3 Alpha-code', 'ISO2 Alpha-code', 'SDMX code**',\n",
              "       'Type', 'Parent code', 'Year',\n",
              "       'Total Population, as of 1 January (thousands)',\n",
              "       'Total Population, as of 1 July (thousands)',\n",
              "       'Male Population, as of 1 July (thousands)',\n",
              "       'Female Population, as of 1 July (thousands)',\n",
              "       'Population Density, as of 1 July (persons per square km)',\n",
              "       'Population Sex Ratio, as of 1 July (males per 100 females)',\n",
              "       'Median Age, as of 1 July (years)',\n",
              "       'Natural Change, Births minus Deaths (thousands)',\n",
              "       'Rate of Natural Change (per 1,000 population)',\n",
              "       'Population Change (thousands)', 'Population Growth Rate (percentage)',\n",
              "       'Population Annual Doubling Time (years)', 'Births (thousands)',\n",
              "       'Births by women aged 15 to 19 (thousands)',\n",
              "       'Crude Birth Rate (births per 1,000 population)',\n",
              "       'Total Fertility Rate (live births per woman)',\n",
              "       'Net Reproduction Rate (surviving daughters per woman)',\n",
              "       'Mean Age Childbearing (years)',\n",
              "       'Sex Ratio at Birth (males per 100 female births)',\n",
              "       'Total Deaths (thousands)', 'Male Deaths (thousands)',\n",
              "       'Female Deaths (thousands)',\n",
              "       'Crude Death Rate (deaths per 1,000 population)',\n",
              "       'Life Expectancy at Birth, both sexes (years)',\n",
              "       'Male Life Expectancy at Birth (years)',\n",
              "       'Female Life Expectancy at Birth (years)',\n",
              "       'Life Expectancy at Age 15, both sexes (years)',\n",
              "       'Male Life Expectancy at Age 15 (years)',\n",
              "       'Female Life Expectancy at Age 15 (years)',\n",
              "       'Life Expectancy at Age 65, both sexes (years)',\n",
              "       'Male Life Expectancy at Age 65 (years)',\n",
              "       'Female Life Expectancy at Age 65 (years)',\n",
              "       'Life Expectancy at Age 80, both sexes (years)',\n",
              "       'Male Life Expectancy at Age 80 (years)',\n",
              "       'Female Life Expectancy at Age 80 (years)',\n",
              "       'Infant Deaths, under age 1 (thousands)',\n",
              "       'Infant Mortality Rate (infant deaths per 1,000 live births)',\n",
              "       'Live Births Surviving to Age 1 (thousands)',\n",
              "       'Under-Five Deaths, under age 5 (thousands)',\n",
              "       'Under-Five Mortality (deaths under age 5 per 1,000 live births)',\n",
              "       'Mortality before Age 40, both sexes (deaths under age 40 per 1,000 live births)',\n",
              "       'Male Mortality before Age 40 (deaths under age 40 per 1,000 male live births)',\n",
              "       'Female Mortality before Age 40 (deaths under age 40 per 1,000 female live births)',\n",
              "       'Mortality before Age 60, both sexes (deaths under age 60 per 1,000 live births)',\n",
              "       'Male Mortality before Age 60 (deaths under age 60 per 1,000 male live births)',\n",
              "       'Female Mortality before Age 60 (deaths under age 60 per 1,000 female live births)',\n",
              "       'Mortality between Age 15 and 50, both sexes (deaths under age 50 per 1,000 alive at age 15)',\n",
              "       'Male Mortality between Age 15 and 50 (deaths under age 50 per 1,000 males alive at age 15)',\n",
              "       'Female Mortality between Age 15 and 50 (deaths under age 50 per 1,000 females alive at age 15)',\n",
              "       'Mortality between Age 15 and 60, both sexes (deaths under age 60 per 1,000 alive at age 15)',\n",
              "       'Male Mortality between Age 15 and 60 (deaths under age 60 per 1,000 males alive at age 15)',\n",
              "       'Female Mortality between Age 15 and 60 (deaths under age 60 per 1,000 females alive at age 15)',\n",
              "       'Net Number of Migrants (thousands)',\n",
              "       'Net Migration Rate (per 1,000 population)'],\n",
              "      dtype='object')"
            ]
          },
          "metadata": {},
          "execution_count": 6
        }
      ]
    },
    {
      "cell_type": "code",
      "source": [
        "df.drop(df.columns[[0,1,3,4,5,6,7,8,9,10]],inplace=True,axis=1)"
      ],
      "metadata": {
        "id": "YaMR4dq9krKs"
      },
      "execution_count": null,
      "outputs": []
    },
    {
      "cell_type": "code",
      "source": [
        "df.head()"
      ],
      "metadata": {
        "colab": {
          "base_uri": "https://localhost:8080/",
          "height": 490
        },
        "id": "uO3MpqExp1qS",
        "outputId": "a6aaf4e6-bbf5-48dc-d162-e866300017ee"
      },
      "execution_count": null,
      "outputs": [
        {
          "output_type": "execute_result",
          "data": {
            "text/plain": [
              "  Region, subregion, country or area *  \\\n",
              "0                                WORLD   \n",
              "1                                WORLD   \n",
              "2                                WORLD   \n",
              "3                                WORLD   \n",
              "4                                WORLD   \n",
              "\n",
              "  Total Population, as of 1 January (thousands)  \\\n",
              "0                                   2477674.732   \n",
              "1                                   2520969.582   \n",
              "2                                   2565291.179   \n",
              "3                                   2615250.618   \n",
              "4                                   2665306.975   \n",
              "\n",
              "  Total Population, as of 1 July (thousands)  \\\n",
              "0                                2499322.157   \n",
              "1                                 2543130.38   \n",
              "2                                2590270.899   \n",
              "3                                2640278.797   \n",
              "4                                2691979.339   \n",
              "\n",
              "  Male Population, as of 1 July (thousands)  \\\n",
              "0                               1245362.965   \n",
              "1                               1267473.182   \n",
              "2                               1291399.982   \n",
              "3                               1316659.222   \n",
              "4                               1342923.171   \n",
              "\n",
              "  Female Population, as of 1 July (thousands)  \\\n",
              "0                                 1253959.192   \n",
              "1                                 1275657.198   \n",
              "2                                 1298870.917   \n",
              "3                                 1323619.574   \n",
              "4                                 1349056.168   \n",
              "\n",
              "  Population Density, as of 1 July (persons per square km)  \\\n",
              "0                                             19.166         \n",
              "1                                             19.502         \n",
              "2                                             19.864         \n",
              "3                                             20.247         \n",
              "4                                             20.643         \n",
              "\n",
              "  Population Sex Ratio, as of 1 July (males per 100 females)  \\\n",
              "0                                             99.314           \n",
              "1                                             99.358           \n",
              "2                                             99.425           \n",
              "3                                             99.474           \n",
              "4                                             99.545           \n",
              "\n",
              "  Median Age, as of 1 July (years)  \\\n",
              "0                           22.224   \n",
              "1                           22.172   \n",
              "2                           22.108   \n",
              "3                           22.036   \n",
              "4                           21.952   \n",
              "\n",
              "  Natural Change, Births minus Deaths (thousands)  \\\n",
              "0                                       43294.722   \n",
              "1                                       44322.348   \n",
              "2                                       49960.072   \n",
              "3                                       50056.756   \n",
              "4                                       53345.249   \n",
              "\n",
              "  Rate of Natural Change (per 1,000 population)  ...  \\\n",
              "0                                        17.319  ...   \n",
              "1                                        17.427  ...   \n",
              "2                                        19.283  ...   \n",
              "3                                        18.959  ...   \n",
              "4                                        19.812  ...   \n",
              "\n",
              "  Male Mortality before Age 60 (deaths under age 60 per 1,000 male live births)  \\\n",
              "0                                             580.75                              \n",
              "1                                            566.728                              \n",
              "2                                            546.317                              \n",
              "3                                            535.829                              \n",
              "4                                            523.124                              \n",
              "\n",
              "  Female Mortality before Age 60 (deaths under age 60 per 1,000 female live births)  \\\n",
              "0                                             498.04                                  \n",
              "1                                            490.199                                  \n",
              "2                                            477.264                                  \n",
              "3                                            469.532                                  \n",
              "4                                            458.484                                  \n",
              "\n",
              "  Mortality between Age 15 and 50, both sexes (deaths under age 50 per 1,000 alive at age 15)  \\\n",
              "0                                            240.316                                            \n",
              "1                                            231.177                                            \n",
              "2                                            218.674                                            \n",
              "3                                            212.872                                            \n",
              "4                                            205.762                                            \n",
              "\n",
              "  Male Mortality between Age 15 and 50 (deaths under age 50 per 1,000 males alive at age 15)  \\\n",
              "0                                            271.625                                           \n",
              "1                                             258.09                                           \n",
              "2                                            240.034                                           \n",
              "3                                            232.602                                           \n",
              "4                                             224.05                                           \n",
              "\n",
              "  Female Mortality between Age 15 and 50 (deaths under age 50 per 1,000 females alive at age 15)  \\\n",
              "0                                            208.192                                               \n",
              "1                                             203.78                                               \n",
              "2                                            197.142                                               \n",
              "3                                            193.049                                               \n",
              "4                                            187.444                                               \n",
              "\n",
              "  Mortality between Age 15 and 60, both sexes (deaths under age 60 per 1,000 alive at age 15)  \\\n",
              "0                                            378.697                                            \n",
              "1                                            368.319                                            \n",
              "2                                            353.055                                            \n",
              "3                                            345.083                                            \n",
              "4                                            335.442                                            \n",
              "\n",
              "  Male Mortality between Age 15 and 60 (deaths under age 60 per 1,000 males alive at age 15)  \\\n",
              "0                                            430.259                                           \n",
              "1                                            415.836                                           \n",
              "2                                            395.533                                           \n",
              "3                                            385.843                                           \n",
              "4                                            374.658                                           \n",
              "\n",
              "  Female Mortality between Age 15 and 60 (deaths under age 60 per 1,000 females alive at age 15)  \\\n",
              "0                                            324.931                                               \n",
              "1                                            319.336                                               \n",
              "2                                             309.91                                               \n",
              "3                                            303.905                                               \n",
              "4                                            295.994                                               \n",
              "\n",
              "  Net Number of Migrants (thousands) Net Migration Rate (per 1,000 population)  \n",
              "0                                  0                                         0  \n",
              "1                                  0                                         0  \n",
              "2                                  0                                         0  \n",
              "3                                  0                                         0  \n",
              "4                                  0                                         0  \n",
              "\n",
              "[5 rows x 55 columns]"
            ],
            "text/html": [
              "\n",
              "  <div id=\"df-2022e90a-a68d-4c00-bd85-5df1017f8aba\">\n",
              "    <div class=\"colab-df-container\">\n",
              "      <div>\n",
              "<style scoped>\n",
              "    .dataframe tbody tr th:only-of-type {\n",
              "        vertical-align: middle;\n",
              "    }\n",
              "\n",
              "    .dataframe tbody tr th {\n",
              "        vertical-align: top;\n",
              "    }\n",
              "\n",
              "    .dataframe thead th {\n",
              "        text-align: right;\n",
              "    }\n",
              "</style>\n",
              "<table border=\"1\" class=\"dataframe\">\n",
              "  <thead>\n",
              "    <tr style=\"text-align: right;\">\n",
              "      <th></th>\n",
              "      <th>Region, subregion, country or area *</th>\n",
              "      <th>Total Population, as of 1 January (thousands)</th>\n",
              "      <th>Total Population, as of 1 July (thousands)</th>\n",
              "      <th>Male Population, as of 1 July (thousands)</th>\n",
              "      <th>Female Population, as of 1 July (thousands)</th>\n",
              "      <th>Population Density, as of 1 July (persons per square km)</th>\n",
              "      <th>Population Sex Ratio, as of 1 July (males per 100 females)</th>\n",
              "      <th>Median Age, as of 1 July (years)</th>\n",
              "      <th>Natural Change, Births minus Deaths (thousands)</th>\n",
              "      <th>Rate of Natural Change (per 1,000 population)</th>\n",
              "      <th>...</th>\n",
              "      <th>Male Mortality before Age 60 (deaths under age 60 per 1,000 male live births)</th>\n",
              "      <th>Female Mortality before Age 60 (deaths under age 60 per 1,000 female live births)</th>\n",
              "      <th>Mortality between Age 15 and 50, both sexes (deaths under age 50 per 1,000 alive at age 15)</th>\n",
              "      <th>Male Mortality between Age 15 and 50 (deaths under age 50 per 1,000 males alive at age 15)</th>\n",
              "      <th>Female Mortality between Age 15 and 50 (deaths under age 50 per 1,000 females alive at age 15)</th>\n",
              "      <th>Mortality between Age 15 and 60, both sexes (deaths under age 60 per 1,000 alive at age 15)</th>\n",
              "      <th>Male Mortality between Age 15 and 60 (deaths under age 60 per 1,000 males alive at age 15)</th>\n",
              "      <th>Female Mortality between Age 15 and 60 (deaths under age 60 per 1,000 females alive at age 15)</th>\n",
              "      <th>Net Number of Migrants (thousands)</th>\n",
              "      <th>Net Migration Rate (per 1,000 population)</th>\n",
              "    </tr>\n",
              "  </thead>\n",
              "  <tbody>\n",
              "    <tr>\n",
              "      <th>0</th>\n",
              "      <td>WORLD</td>\n",
              "      <td>2477674.732</td>\n",
              "      <td>2499322.157</td>\n",
              "      <td>1245362.965</td>\n",
              "      <td>1253959.192</td>\n",
              "      <td>19.166</td>\n",
              "      <td>99.314</td>\n",
              "      <td>22.224</td>\n",
              "      <td>43294.722</td>\n",
              "      <td>17.319</td>\n",
              "      <td>...</td>\n",
              "      <td>580.75</td>\n",
              "      <td>498.04</td>\n",
              "      <td>240.316</td>\n",
              "      <td>271.625</td>\n",
              "      <td>208.192</td>\n",
              "      <td>378.697</td>\n",
              "      <td>430.259</td>\n",
              "      <td>324.931</td>\n",
              "      <td>0</td>\n",
              "      <td>0</td>\n",
              "    </tr>\n",
              "    <tr>\n",
              "      <th>1</th>\n",
              "      <td>WORLD</td>\n",
              "      <td>2520969.582</td>\n",
              "      <td>2543130.38</td>\n",
              "      <td>1267473.182</td>\n",
              "      <td>1275657.198</td>\n",
              "      <td>19.502</td>\n",
              "      <td>99.358</td>\n",
              "      <td>22.172</td>\n",
              "      <td>44322.348</td>\n",
              "      <td>17.427</td>\n",
              "      <td>...</td>\n",
              "      <td>566.728</td>\n",
              "      <td>490.199</td>\n",
              "      <td>231.177</td>\n",
              "      <td>258.09</td>\n",
              "      <td>203.78</td>\n",
              "      <td>368.319</td>\n",
              "      <td>415.836</td>\n",
              "      <td>319.336</td>\n",
              "      <td>0</td>\n",
              "      <td>0</td>\n",
              "    </tr>\n",
              "    <tr>\n",
              "      <th>2</th>\n",
              "      <td>WORLD</td>\n",
              "      <td>2565291.179</td>\n",
              "      <td>2590270.899</td>\n",
              "      <td>1291399.982</td>\n",
              "      <td>1298870.917</td>\n",
              "      <td>19.864</td>\n",
              "      <td>99.425</td>\n",
              "      <td>22.108</td>\n",
              "      <td>49960.072</td>\n",
              "      <td>19.283</td>\n",
              "      <td>...</td>\n",
              "      <td>546.317</td>\n",
              "      <td>477.264</td>\n",
              "      <td>218.674</td>\n",
              "      <td>240.034</td>\n",
              "      <td>197.142</td>\n",
              "      <td>353.055</td>\n",
              "      <td>395.533</td>\n",
              "      <td>309.91</td>\n",
              "      <td>0</td>\n",
              "      <td>0</td>\n",
              "    </tr>\n",
              "    <tr>\n",
              "      <th>3</th>\n",
              "      <td>WORLD</td>\n",
              "      <td>2615250.618</td>\n",
              "      <td>2640278.797</td>\n",
              "      <td>1316659.222</td>\n",
              "      <td>1323619.574</td>\n",
              "      <td>20.247</td>\n",
              "      <td>99.474</td>\n",
              "      <td>22.036</td>\n",
              "      <td>50056.756</td>\n",
              "      <td>18.959</td>\n",
              "      <td>...</td>\n",
              "      <td>535.829</td>\n",
              "      <td>469.532</td>\n",
              "      <td>212.872</td>\n",
              "      <td>232.602</td>\n",
              "      <td>193.049</td>\n",
              "      <td>345.083</td>\n",
              "      <td>385.843</td>\n",
              "      <td>303.905</td>\n",
              "      <td>0</td>\n",
              "      <td>0</td>\n",
              "    </tr>\n",
              "    <tr>\n",
              "      <th>4</th>\n",
              "      <td>WORLD</td>\n",
              "      <td>2665306.975</td>\n",
              "      <td>2691979.339</td>\n",
              "      <td>1342923.171</td>\n",
              "      <td>1349056.168</td>\n",
              "      <td>20.643</td>\n",
              "      <td>99.545</td>\n",
              "      <td>21.952</td>\n",
              "      <td>53345.249</td>\n",
              "      <td>19.812</td>\n",
              "      <td>...</td>\n",
              "      <td>523.124</td>\n",
              "      <td>458.484</td>\n",
              "      <td>205.762</td>\n",
              "      <td>224.05</td>\n",
              "      <td>187.444</td>\n",
              "      <td>335.442</td>\n",
              "      <td>374.658</td>\n",
              "      <td>295.994</td>\n",
              "      <td>0</td>\n",
              "      <td>0</td>\n",
              "    </tr>\n",
              "  </tbody>\n",
              "</table>\n",
              "<p>5 rows × 55 columns</p>\n",
              "</div>\n",
              "      <button class=\"colab-df-convert\" onclick=\"convertToInteractive('df-2022e90a-a68d-4c00-bd85-5df1017f8aba')\"\n",
              "              title=\"Convert this dataframe to an interactive table.\"\n",
              "              style=\"display:none;\">\n",
              "        \n",
              "  <svg xmlns=\"http://www.w3.org/2000/svg\" height=\"24px\"viewBox=\"0 0 24 24\"\n",
              "       width=\"24px\">\n",
              "    <path d=\"M0 0h24v24H0V0z\" fill=\"none\"/>\n",
              "    <path d=\"M18.56 5.44l.94 2.06.94-2.06 2.06-.94-2.06-.94-.94-2.06-.94 2.06-2.06.94zm-11 1L8.5 8.5l.94-2.06 2.06-.94-2.06-.94L8.5 2.5l-.94 2.06-2.06.94zm10 10l.94 2.06.94-2.06 2.06-.94-2.06-.94-.94-2.06-.94 2.06-2.06.94z\"/><path d=\"M17.41 7.96l-1.37-1.37c-.4-.4-.92-.59-1.43-.59-.52 0-1.04.2-1.43.59L10.3 9.45l-7.72 7.72c-.78.78-.78 2.05 0 2.83L4 21.41c.39.39.9.59 1.41.59.51 0 1.02-.2 1.41-.59l7.78-7.78 2.81-2.81c.8-.78.8-2.07 0-2.86zM5.41 20L4 18.59l7.72-7.72 1.47 1.35L5.41 20z\"/>\n",
              "  </svg>\n",
              "      </button>\n",
              "      \n",
              "  <style>\n",
              "    .colab-df-container {\n",
              "      display:flex;\n",
              "      flex-wrap:wrap;\n",
              "      gap: 12px;\n",
              "    }\n",
              "\n",
              "    .colab-df-convert {\n",
              "      background-color: #E8F0FE;\n",
              "      border: none;\n",
              "      border-radius: 50%;\n",
              "      cursor: pointer;\n",
              "      display: none;\n",
              "      fill: #1967D2;\n",
              "      height: 32px;\n",
              "      padding: 0 0 0 0;\n",
              "      width: 32px;\n",
              "    }\n",
              "\n",
              "    .colab-df-convert:hover {\n",
              "      background-color: #E2EBFA;\n",
              "      box-shadow: 0px 1px 2px rgba(60, 64, 67, 0.3), 0px 1px 3px 1px rgba(60, 64, 67, 0.15);\n",
              "      fill: #174EA6;\n",
              "    }\n",
              "\n",
              "    [theme=dark] .colab-df-convert {\n",
              "      background-color: #3B4455;\n",
              "      fill: #D2E3FC;\n",
              "    }\n",
              "\n",
              "    [theme=dark] .colab-df-convert:hover {\n",
              "      background-color: #434B5C;\n",
              "      box-shadow: 0px 1px 3px 1px rgba(0, 0, 0, 0.15);\n",
              "      filter: drop-shadow(0px 1px 2px rgba(0, 0, 0, 0.3));\n",
              "      fill: #FFFFFF;\n",
              "    }\n",
              "  </style>\n",
              "\n",
              "      <script>\n",
              "        const buttonEl =\n",
              "          document.querySelector('#df-2022e90a-a68d-4c00-bd85-5df1017f8aba button.colab-df-convert');\n",
              "        buttonEl.style.display =\n",
              "          google.colab.kernel.accessAllowed ? 'block' : 'none';\n",
              "\n",
              "        async function convertToInteractive(key) {\n",
              "          const element = document.querySelector('#df-2022e90a-a68d-4c00-bd85-5df1017f8aba');\n",
              "          const dataTable =\n",
              "            await google.colab.kernel.invokeFunction('convertToInteractive',\n",
              "                                                     [key], {});\n",
              "          if (!dataTable) return;\n",
              "\n",
              "          const docLinkHtml = 'Like what you see? Visit the ' +\n",
              "            '<a target=\"_blank\" href=https://colab.research.google.com/notebooks/data_table.ipynb>data table notebook</a>'\n",
              "            + ' to learn more about interactive tables.';\n",
              "          element.innerHTML = '';\n",
              "          dataTable['output_type'] = 'display_data';\n",
              "          await google.colab.output.renderOutput(dataTable, element);\n",
              "          const docLink = document.createElement('div');\n",
              "          docLink.innerHTML = docLinkHtml;\n",
              "          element.appendChild(docLink);\n",
              "        }\n",
              "      </script>\n",
              "    </div>\n",
              "  </div>\n",
              "  "
            ]
          },
          "metadata": {},
          "execution_count": 8
        }
      ]
    },
    {
      "cell_type": "code",
      "source": [
        "df[df.columns[0]].unique()"
      ],
      "metadata": {
        "colab": {
          "base_uri": "https://localhost:8080/"
        },
        "id": "3etpihuyp7OC",
        "outputId": "00b59886-4f73-48e4-9a37-c86480662135"
      },
      "execution_count": null,
      "outputs": [
        {
          "output_type": "execute_result",
          "data": {
            "text/plain": [
              "array(['WORLD', 'Sustainable Development Goal (SDG) regions',\n",
              "       'Sub-Saharan Africa', 'Northern Africa and Western Asia',\n",
              "       'Central and Southern Asia', 'Eastern and South-Eastern Asia',\n",
              "       'Latin America and the Caribbean',\n",
              "       'Oceania (excluding Australia and New Zealand)',\n",
              "       'Australia/New Zealand', 'Europe and Northern America',\n",
              "       'UN development groups', 'More developed regions',\n",
              "       'Less developed regions', 'Least developed countries',\n",
              "       'Less developed regions, excluding least developed countries',\n",
              "       'Less developed regions, excluding China',\n",
              "       'Land-locked Developing Countries (LLDC)',\n",
              "       'Small Island Developing States (SIDS)',\n",
              "       'World Bank income groups', 'High-income countries',\n",
              "       'Middle-income countries', 'Upper-middle-income countries',\n",
              "       'Lower-middle-income countries', 'Low-income countries',\n",
              "       'No income group available', 'Geographic regions', 'AFRICA',\n",
              "       'Eastern Africa', 'Burundi', 'Comoros', 'Djibouti', 'Eritrea',\n",
              "       'Ethiopia', 'Kenya', 'Madagascar', 'Malawi', 'Mauritius',\n",
              "       'Mayotte', 'Mozambique', 'Réunion', 'Rwanda', 'Seychelles',\n",
              "       'Somalia', 'South Sudan', 'Uganda', 'United Republic of Tanzania',\n",
              "       'Zambia', 'Zimbabwe', 'Middle Africa', 'Angola', 'Cameroon',\n",
              "       'Central African Republic', 'Chad', 'Congo',\n",
              "       'Democratic Republic of the Congo', 'Equatorial Guinea', 'Gabon',\n",
              "       'Sao Tome and Principe', 'Northern Africa', 'Algeria', 'Egypt',\n",
              "       'Libya', 'Morocco', 'Sudan', 'Tunisia', 'Western Sahara',\n",
              "       'Southern Africa', 'Botswana', 'Eswatini', 'Lesotho', 'Namibia',\n",
              "       'South Africa', 'Western Africa', 'Benin', 'Burkina Faso',\n",
              "       'Cabo Verde', \"Côte d'Ivoire\", 'Gambia', 'Ghana', 'Guinea',\n",
              "       'Guinea-Bissau', 'Liberia', 'Mali', 'Mauritania', 'Niger',\n",
              "       'Nigeria', 'Saint Helena', 'Senegal', 'Sierra Leone', 'Togo',\n",
              "       'ASIA', 'Central Asia', 'Kazakhstan', 'Kyrgyzstan', 'Tajikistan',\n",
              "       'Turkmenistan', 'Uzbekistan', 'Eastern Asia', 'China',\n",
              "       'China, Hong Kong SAR', 'China, Macao SAR',\n",
              "       'China, Taiwan Province of China',\n",
              "       \"Dem. People's Republic of Korea\", 'Japan', 'Mongolia',\n",
              "       'Republic of Korea', 'Southern Asia', 'Afghanistan', 'Bangladesh',\n",
              "       'Bhutan', 'India', 'Iran (Islamic Republic of)', 'Maldives',\n",
              "       'Nepal', 'Pakistan', 'Sri Lanka', 'South-Eastern Asia',\n",
              "       'Brunei Darussalam', 'Cambodia', 'Indonesia',\n",
              "       \"Lao People's Democratic Republic\", 'Malaysia', 'Myanmar',\n",
              "       'Philippines', 'Singapore', 'Thailand', 'Timor-Leste', 'Viet Nam',\n",
              "       'Western Asia', 'Armenia', 'Azerbaijan', 'Bahrain', 'Cyprus',\n",
              "       'Georgia', 'Iraq', 'Israel', 'Jordan', 'Kuwait', 'Lebanon', 'Oman',\n",
              "       'Qatar', 'Saudi Arabia', 'State of Palestine',\n",
              "       'Syrian Arab Republic', 'Türkiye', 'United Arab Emirates', 'Yemen',\n",
              "       'EUROPE', 'Eastern Europe', 'Belarus', 'Bulgaria', 'Czechia',\n",
              "       'Hungary', 'Poland', 'Republic of Moldova', 'Romania',\n",
              "       'Russian Federation', 'Slovakia', 'Ukraine', 'Northern Europe',\n",
              "       'Denmark', 'Estonia', 'Faroe Islands', 'Finland', 'Guernsey',\n",
              "       'Iceland', 'Ireland', 'Isle of Man', 'Jersey', 'Latvia',\n",
              "       'Lithuania', 'Norway', 'Sweden', 'United Kingdom',\n",
              "       'Southern Europe', 'Albania', 'Andorra', 'Bosnia and Herzegovina',\n",
              "       'Croatia', 'Gibraltar', 'Greece', 'Holy See', 'Italy',\n",
              "       'Kosovo (under UNSC res. 1244)', 'Malta', 'Montenegro',\n",
              "       'North Macedonia', 'Portugal', 'San Marino', 'Serbia', 'Slovenia',\n",
              "       'Spain', 'Western Europe', 'Austria', 'Belgium', 'France',\n",
              "       'Germany', 'Liechtenstein', 'Luxembourg', 'Monaco', 'Netherlands',\n",
              "       'Switzerland', 'LATIN AMERICA AND THE CARIBBEAN', 'Caribbean',\n",
              "       'Anguilla', 'Antigua and Barbuda', 'Aruba', 'Bahamas', 'Barbados',\n",
              "       'Bonaire, Sint Eustatius and Saba', 'British Virgin Islands',\n",
              "       'Cayman Islands', 'Cuba', 'Curaçao', 'Dominica',\n",
              "       'Dominican Republic', 'Grenada', 'Guadeloupe', 'Haiti', 'Jamaica',\n",
              "       'Martinique', 'Montserrat', 'Puerto Rico', 'Saint Barthélemy',\n",
              "       'Saint Kitts and Nevis', 'Saint Lucia',\n",
              "       'Saint Martin (French part)', 'Saint Vincent and the Grenadines',\n",
              "       'Sint Maarten (Dutch part)', 'Trinidad and Tobago',\n",
              "       'Turks and Caicos Islands', 'United States Virgin Islands',\n",
              "       'Central America', 'Belize', 'Costa Rica', 'El Salvador',\n",
              "       'Guatemala', 'Honduras', 'Mexico', 'Nicaragua', 'Panama',\n",
              "       'South America', 'Argentina', 'Bolivia (Plurinational State of)',\n",
              "       'Brazil', 'Chile', 'Colombia', 'Ecuador',\n",
              "       'Falkland Islands (Malvinas)', 'French Guiana', 'Guyana',\n",
              "       'Paraguay', 'Peru', 'Suriname', 'Uruguay',\n",
              "       'Venezuela (Bolivarian Republic of)', 'NORTHERN AMERICA',\n",
              "       'Bermuda', 'Canada', 'Greenland', 'Saint Pierre and Miquelon',\n",
              "       'United States of America', 'OCEANIA', 'Australia', 'New Zealand',\n",
              "       'Melanesia', 'Fiji', 'New Caledonia', 'Papua New Guinea',\n",
              "       'Solomon Islands', 'Vanuatu', 'Micronesia', 'Guam', 'Kiribati',\n",
              "       'Marshall Islands', 'Micronesia (Fed. States of)', 'Nauru',\n",
              "       'Northern Mariana Islands', 'Palau', 'Polynesia', 'American Samoa',\n",
              "       'Cook Islands', 'French Polynesia', 'Niue', 'Samoa', 'Tokelau',\n",
              "       'Tonga', 'Tuvalu', 'Wallis and Futuna Islands'], dtype=object)"
            ]
          },
          "metadata": {},
          "execution_count": 9
        }
      ]
    },
    {
      "cell_type": "code",
      "source": [
        "df.isnull().sum()"
      ],
      "metadata": {
        "colab": {
          "base_uri": "https://localhost:8080/"
        },
        "id": "zuMbCOsh4y56",
        "outputId": "f7165610-25e3-459b-bb75-b2973a958c23"
      },
      "execution_count": null,
      "outputs": [
        {
          "output_type": "execute_result",
          "data": {
            "text/plain": [
              "Region, subregion, country or area *                                                              0\n",
              "Total Population, as of 1 January (thousands)                                                     0\n",
              "Total Population, as of 1 July (thousands)                                                        0\n",
              "Male Population, as of 1 July (thousands)                                                         0\n",
              "Female Population, as of 1 July (thousands)                                                       0\n",
              "Population Density, as of 1 July (persons per square km)                                          0\n",
              "Population Sex Ratio, as of 1 July (males per 100 females)                                        0\n",
              "Median Age, as of 1 July (years)                                                                  0\n",
              "Natural Change, Births minus Deaths (thousands)                                                   0\n",
              "Rate of Natural Change (per 1,000 population)                                                     0\n",
              "Population Change (thousands)                                                                     0\n",
              "Population Growth Rate (percentage)                                                               0\n",
              "Population Annual Doubling Time (years)                                                           0\n",
              "Births (thousands)                                                                                0\n",
              "Births by women aged 15 to 19 (thousands)                                                         0\n",
              "Crude Birth Rate (births per 1,000 population)                                                    0\n",
              "Total Fertility Rate (live births per woman)                                                      0\n",
              "Net Reproduction Rate (surviving daughters per woman)                                             0\n",
              "Mean Age Childbearing (years)                                                                     0\n",
              "Sex Ratio at Birth (males per 100 female births)                                                  0\n",
              "Total Deaths (thousands)                                                                          0\n",
              "Male Deaths (thousands)                                                                           0\n",
              "Female Deaths (thousands)                                                                         0\n",
              "Crude Death Rate (deaths per 1,000 population)                                                    0\n",
              "Life Expectancy at Birth, both sexes (years)                                                      0\n",
              "Male Life Expectancy at Birth (years)                                                             0\n",
              "Female Life Expectancy at Birth (years)                                                           0\n",
              "Life Expectancy at Age 15, both sexes (years)                                                     0\n",
              "Male Life Expectancy at Age 15 (years)                                                            0\n",
              "Female Life Expectancy at Age 15 (years)                                                          0\n",
              "Life Expectancy at Age 65, both sexes (years)                                                     0\n",
              "Male Life Expectancy at Age 65 (years)                                                            0\n",
              "Female Life Expectancy at Age 65 (years)                                                          0\n",
              "Life Expectancy at Age 80, both sexes (years)                                                     0\n",
              "Male Life Expectancy at Age 80 (years)                                                            0\n",
              "Female Life Expectancy at Age 80 (years)                                                          0\n",
              "Infant Deaths, under age 1 (thousands)                                                            0\n",
              "Infant Mortality Rate (infant deaths per 1,000 live births)                                       0\n",
              "Live Births Surviving to Age 1 (thousands)                                                        0\n",
              "Under-Five Deaths, under age 5 (thousands)                                                        0\n",
              "Under-Five Mortality (deaths under age 5 per 1,000 live births)                                   0\n",
              "Mortality before Age 40, both sexes (deaths under age 40 per 1,000 live births)                   0\n",
              "Male Mortality before Age 40 (deaths under age 40 per 1,000 male live births)                     0\n",
              "Female Mortality before Age 40 (deaths under age 40 per 1,000 female live births)                 0\n",
              "Mortality before Age 60, both sexes (deaths under age 60 per 1,000 live births)                   0\n",
              "Male Mortality before Age 60 (deaths under age 60 per 1,000 male live births)                     0\n",
              "Female Mortality before Age 60 (deaths under age 60 per 1,000 female live births)                 0\n",
              "Mortality between Age 15 and 50, both sexes (deaths under age 50 per 1,000 alive at age 15)       0\n",
              "Male Mortality between Age 15 and 50 (deaths under age 50 per 1,000 males alive at age 15)        0\n",
              "Female Mortality between Age 15 and 50 (deaths under age 50 per 1,000 females alive at age 15)    0\n",
              "Mortality between Age 15 and 60, both sexes (deaths under age 60 per 1,000 alive at age 15)       0\n",
              "Male Mortality between Age 15 and 60 (deaths under age 60 per 1,000 males alive at age 15)        0\n",
              "Female Mortality between Age 15 and 60 (deaths under age 60 per 1,000 females alive at age 15)    0\n",
              "Net Number of Migrants (thousands)                                                                0\n",
              "Net Migration Rate (per 1,000 population)                                                         0\n",
              "dtype: int64"
            ]
          },
          "metadata": {},
          "execution_count": 10
        }
      ]
    },
    {
      "cell_type": "code",
      "source": [
        "df.rename(columns = {'Life Expectancy at Birth, both sexes (years)':'Life_Expectancy'}, inplace = True)"
      ],
      "metadata": {
        "id": "0k-3GpLR481J"
      },
      "execution_count": null,
      "outputs": []
    },
    {
      "cell_type": "code",
      "source": [
        "df.columns[:]"
      ],
      "metadata": {
        "colab": {
          "base_uri": "https://localhost:8080/"
        },
        "id": "x7OW_cUs8ZPx",
        "outputId": "24793198-9cdb-4c02-ca66-e64e58184895"
      },
      "execution_count": null,
      "outputs": [
        {
          "output_type": "execute_result",
          "data": {
            "text/plain": [
              "Index(['Region, subregion, country or area *',\n",
              "       'Total Population, as of 1 January (thousands)',\n",
              "       'Total Population, as of 1 July (thousands)',\n",
              "       'Male Population, as of 1 July (thousands)',\n",
              "       'Female Population, as of 1 July (thousands)',\n",
              "       'Population Density, as of 1 July (persons per square km)',\n",
              "       'Population Sex Ratio, as of 1 July (males per 100 females)',\n",
              "       'Median Age, as of 1 July (years)',\n",
              "       'Natural Change, Births minus Deaths (thousands)',\n",
              "       'Rate of Natural Change (per 1,000 population)',\n",
              "       'Population Change (thousands)', 'Population Growth Rate (percentage)',\n",
              "       'Population Annual Doubling Time (years)', 'Births (thousands)',\n",
              "       'Births by women aged 15 to 19 (thousands)',\n",
              "       'Crude Birth Rate (births per 1,000 population)',\n",
              "       'Total Fertility Rate (live births per woman)',\n",
              "       'Net Reproduction Rate (surviving daughters per woman)',\n",
              "       'Mean Age Childbearing (years)',\n",
              "       'Sex Ratio at Birth (males per 100 female births)',\n",
              "       'Total Deaths (thousands)', 'Male Deaths (thousands)',\n",
              "       'Female Deaths (thousands)',\n",
              "       'Crude Death Rate (deaths per 1,000 population)', 'Life_Expectancy',\n",
              "       'Male Life Expectancy at Birth (years)',\n",
              "       'Female Life Expectancy at Birth (years)',\n",
              "       'Life Expectancy at Age 15, both sexes (years)',\n",
              "       'Male Life Expectancy at Age 15 (years)',\n",
              "       'Female Life Expectancy at Age 15 (years)',\n",
              "       'Life Expectancy at Age 65, both sexes (years)',\n",
              "       'Male Life Expectancy at Age 65 (years)',\n",
              "       'Female Life Expectancy at Age 65 (years)',\n",
              "       'Life Expectancy at Age 80, both sexes (years)',\n",
              "       'Male Life Expectancy at Age 80 (years)',\n",
              "       'Female Life Expectancy at Age 80 (years)',\n",
              "       'Infant Deaths, under age 1 (thousands)',\n",
              "       'Infant Mortality Rate (infant deaths per 1,000 live births)',\n",
              "       'Live Births Surviving to Age 1 (thousands)',\n",
              "       'Under-Five Deaths, under age 5 (thousands)',\n",
              "       'Under-Five Mortality (deaths under age 5 per 1,000 live births)',\n",
              "       'Mortality before Age 40, both sexes (deaths under age 40 per 1,000 live births)',\n",
              "       'Male Mortality before Age 40 (deaths under age 40 per 1,000 male live births)',\n",
              "       'Female Mortality before Age 40 (deaths under age 40 per 1,000 female live births)',\n",
              "       'Mortality before Age 60, both sexes (deaths under age 60 per 1,000 live births)',\n",
              "       'Male Mortality before Age 60 (deaths under age 60 per 1,000 male live births)',\n",
              "       'Female Mortality before Age 60 (deaths under age 60 per 1,000 female live births)',\n",
              "       'Mortality between Age 15 and 50, both sexes (deaths under age 50 per 1,000 alive at age 15)',\n",
              "       'Male Mortality between Age 15 and 50 (deaths under age 50 per 1,000 males alive at age 15)',\n",
              "       'Female Mortality between Age 15 and 50 (deaths under age 50 per 1,000 females alive at age 15)',\n",
              "       'Mortality between Age 15 and 60, both sexes (deaths under age 60 per 1,000 alive at age 15)',\n",
              "       'Male Mortality between Age 15 and 60 (deaths under age 60 per 1,000 males alive at age 15)',\n",
              "       'Female Mortality between Age 15 and 60 (deaths under age 60 per 1,000 females alive at age 15)',\n",
              "       'Net Number of Migrants (thousands)',\n",
              "       'Net Migration Rate (per 1,000 population)'],\n",
              "      dtype='object')"
            ]
          },
          "metadata": {},
          "execution_count": 12
        }
      ]
    },
    {
      "cell_type": "code",
      "source": [
        "df[\n",
        "    'Life_Expectancy'\n",
        "]"
      ],
      "metadata": {
        "colab": {
          "base_uri": "https://localhost:8080/"
        },
        "id": "F8SLhFJw89gZ",
        "outputId": "755db530-87b0-43dd-b0dc-09198e1625a1"
      },
      "execution_count": null,
      "outputs": [
        {
          "output_type": "execute_result",
          "data": {
            "text/plain": [
              "0        46.464\n",
              "1        47.144\n",
              "2        48.231\n",
              "3        48.802\n",
              "4        49.592\n",
              "          ...  \n",
              "20591    77.531\n",
              "20592    77.861\n",
              "20593    79.617\n",
              "20594    78.764\n",
              "20595     78.44\n",
              "Name: Life_Expectancy, Length: 20596, dtype: object"
            ]
          },
          "metadata": {},
          "execution_count": 13
        }
      ]
    },
    {
      "cell_type": "code",
      "source": [
        "df[\n",
        "    'Life_Expectancy'\n",
        "] = pd.to_numeric(df[\n",
        "    'Life_Expectancy'\n",
        "])"
      ],
      "metadata": {
        "colab": {
          "base_uri": "https://localhost:8080/",
          "height": 340
        },
        "id": "KKg4udPUAgFa",
        "outputId": "e05a1493-7bec-448d-e22a-d823d83234fa"
      },
      "execution_count": null,
      "outputs": [
        {
          "output_type": "error",
          "ename": "ValueError",
          "evalue": "ignored",
          "traceback": [
            "\u001b[0;31m---------------------------------------------------------------------------\u001b[0m",
            "\u001b[0;31mValueError\u001b[0m                                Traceback (most recent call last)",
            "\u001b[0;32m/usr/local/lib/python3.8/dist-packages/pandas/_libs/lib.pyx\u001b[0m in \u001b[0;36mpandas._libs.lib.maybe_convert_numeric\u001b[0;34m()\u001b[0m\n",
            "\u001b[0;31mValueError\u001b[0m: Unable to parse string \"...\"",
            "\nDuring handling of the above exception, another exception occurred:\n",
            "\u001b[0;31mValueError\u001b[0m                                Traceback (most recent call last)",
            "\u001b[0;32m<ipython-input-14-e645f8ae92d3>\u001b[0m in \u001b[0;36m<module>\u001b[0;34m\u001b[0m\n\u001b[1;32m      1\u001b[0m df[\n\u001b[1;32m      2\u001b[0m     \u001b[0;34m'Life_Expectancy'\u001b[0m\u001b[0;34m\u001b[0m\u001b[0;34m\u001b[0m\u001b[0m\n\u001b[0;32m----> 3\u001b[0;31m ] = pd.to_numeric(df[\n\u001b[0m\u001b[1;32m      4\u001b[0m     \u001b[0;34m'Life_Expectancy'\u001b[0m\u001b[0;34m\u001b[0m\u001b[0;34m\u001b[0m\u001b[0m\n\u001b[1;32m      5\u001b[0m ])\n",
            "\u001b[0;32m/usr/local/lib/python3.8/dist-packages/pandas/core/tools/numeric.py\u001b[0m in \u001b[0;36mto_numeric\u001b[0;34m(arg, errors, downcast)\u001b[0m\n\u001b[1;32m    181\u001b[0m         \u001b[0mcoerce_numeric\u001b[0m \u001b[0;34m=\u001b[0m \u001b[0merrors\u001b[0m \u001b[0;32mnot\u001b[0m \u001b[0;32min\u001b[0m \u001b[0;34m(\u001b[0m\u001b[0;34m\"ignore\"\u001b[0m\u001b[0;34m,\u001b[0m \u001b[0;34m\"raise\"\u001b[0m\u001b[0;34m)\u001b[0m\u001b[0;34m\u001b[0m\u001b[0;34m\u001b[0m\u001b[0m\n\u001b[1;32m    182\u001b[0m         \u001b[0;32mtry\u001b[0m\u001b[0;34m:\u001b[0m\u001b[0;34m\u001b[0m\u001b[0;34m\u001b[0m\u001b[0m\n\u001b[0;32m--> 183\u001b[0;31m             values, _ = lib.maybe_convert_numeric(\n\u001b[0m\u001b[1;32m    184\u001b[0m                 \u001b[0mvalues\u001b[0m\u001b[0;34m,\u001b[0m \u001b[0mset\u001b[0m\u001b[0;34m(\u001b[0m\u001b[0;34m)\u001b[0m\u001b[0;34m,\u001b[0m \u001b[0mcoerce_numeric\u001b[0m\u001b[0;34m=\u001b[0m\u001b[0mcoerce_numeric\u001b[0m\u001b[0;34m\u001b[0m\u001b[0;34m\u001b[0m\u001b[0m\n\u001b[1;32m    185\u001b[0m             )\n",
            "\u001b[0;32m/usr/local/lib/python3.8/dist-packages/pandas/_libs/lib.pyx\u001b[0m in \u001b[0;36mpandas._libs.lib.maybe_convert_numeric\u001b[0;34m()\u001b[0m\n",
            "\u001b[0;31mValueError\u001b[0m: Unable to parse string \"...\" at position 72"
          ]
        }
      ]
    },
    {
      "cell_type": "code",
      "source": [
        "df[\n",
        "   'Life_Expectancy'\n",
        "].iloc[72]"
      ],
      "metadata": {
        "colab": {
          "base_uri": "https://localhost:8080/",
          "height": 36
        },
        "id": "WKsSTS1aAnBy",
        "outputId": "dd752596-96c4-4c78-ee29-e702b10a775c"
      },
      "execution_count": null,
      "outputs": [
        {
          "output_type": "execute_result",
          "data": {
            "text/plain": [
              "'...'"
            ],
            "application/vnd.google.colaboratory.intrinsic+json": {
              "type": "string"
            }
          },
          "metadata": {},
          "execution_count": 15
        }
      ]
    },
    {
      "cell_type": "code",
      "source": [
        "df[\n",
        "    'Life_Expectancy'\n",
        "].unique()"
      ],
      "metadata": {
        "colab": {
          "base_uri": "https://localhost:8080/"
        },
        "id": "S5PvByFjACPJ",
        "outputId": "acc2db77-c8fa-4556-a92e-0c5de5923834"
      },
      "execution_count": null,
      "outputs": [
        {
          "output_type": "execute_result",
          "data": {
            "text/plain": [
              "array([46.464, 47.144, 48.231, ..., 77.861, 79.617, 78.764], dtype=object)"
            ]
          },
          "metadata": {},
          "execution_count": 88
        }
      ]
    },
    {
      "cell_type": "code",
      "source": [
        "indices = [i for i, x in enumerate(df[\n",
        "    'Life_Expectancy'\n",
        "].tolist()) if not isinstance(x, float)]"
      ],
      "metadata": {
        "id": "xZT6kEPQD3Aq"
      },
      "execution_count": null,
      "outputs": []
    },
    {
      "cell_type": "code",
      "source": [
        "len(indices)"
      ],
      "metadata": {
        "colab": {
          "base_uri": "https://localhost:8080/"
        },
        "id": "odbKkT4RD_CR",
        "outputId": "f599e127-8281-4a18-9979-ae168303254a"
      },
      "execution_count": null,
      "outputs": [
        {
          "output_type": "execute_result",
          "data": {
            "text/plain": [
              "97"
            ]
          },
          "metadata": {},
          "execution_count": 17
        }
      ]
    },
    {
      "cell_type": "code",
      "source": [
        "indices"
      ],
      "metadata": {
        "colab": {
          "base_uri": "https://localhost:8080/"
        },
        "id": "ZCyi82DOE1rU",
        "outputId": "ab931ff8-93bd-429c-ef3f-4e43a064fb86"
      },
      "execution_count": null,
      "outputs": [
        {
          "output_type": "execute_result",
          "data": {
            "text/plain": [
              "[72,\n",
              " 649,\n",
              " 1154,\n",
              " 1242,\n",
              " 1340,\n",
              " 1426,\n",
              " 1587,\n",
              " 1878,\n",
              " 4759,\n",
              " 4932,\n",
              " 5122,\n",
              " 6242,\n",
              " 8085,\n",
              " 8710,\n",
              " 9477,\n",
              " 9568,\n",
              " 10666,\n",
              " 12312,\n",
              " 12748,\n",
              " 12749,\n",
              " 12750,\n",
              " 12751,\n",
              " 12752,\n",
              " 12753,\n",
              " 12754,\n",
              " 12755,\n",
              " 12756,\n",
              " 12757,\n",
              " 12758,\n",
              " 12759,\n",
              " 12760,\n",
              " 12761,\n",
              " 12762,\n",
              " 12763,\n",
              " 12764,\n",
              " 12765,\n",
              " 12766,\n",
              " 12767,\n",
              " 12768,\n",
              " 12769,\n",
              " 12770,\n",
              " 12771,\n",
              " 12772,\n",
              " 12773,\n",
              " 12774,\n",
              " 12775,\n",
              " 12776,\n",
              " 12777,\n",
              " 12778,\n",
              " 12779,\n",
              " 12780,\n",
              " 12781,\n",
              " 12782,\n",
              " 12783,\n",
              " 12784,\n",
              " 12785,\n",
              " 12786,\n",
              " 12787,\n",
              " 12788,\n",
              " 12789,\n",
              " 12790,\n",
              " 12791,\n",
              " 12792,\n",
              " 12793,\n",
              " 12794,\n",
              " 12795,\n",
              " 12796,\n",
              " 12797,\n",
              " 12798,\n",
              " 12799,\n",
              " 12800,\n",
              " 12801,\n",
              " 12802,\n",
              " 12803,\n",
              " 12804,\n",
              " 12805,\n",
              " 12806,\n",
              " 12807,\n",
              " 12808,\n",
              " 12809,\n",
              " 12810,\n",
              " 12811,\n",
              " 12812,\n",
              " 12813,\n",
              " 12814,\n",
              " 12815,\n",
              " 12816,\n",
              " 12817,\n",
              " 12818,\n",
              " 12819,\n",
              " 13954,\n",
              " 16481,\n",
              " 16504,\n",
              " 17671,\n",
              " 18724,\n",
              " 19899,\n",
              " 20184]"
            ]
          },
          "metadata": {},
          "execution_count": 18
        }
      ]
    },
    {
      "cell_type": "code",
      "source": [
        "df2 = df.drop(indices)"
      ],
      "metadata": {
        "id": "P7PawF9VCADF"
      },
      "execution_count": null,
      "outputs": []
    },
    {
      "cell_type": "code",
      "source": [
        "df2.iloc[72]"
      ],
      "metadata": {
        "colab": {
          "base_uri": "https://localhost:8080/"
        },
        "id": "LNhTVcXAL2FZ",
        "outputId": "79b73177-3a52-4179-e1b0-59cba0587260"
      },
      "execution_count": null,
      "outputs": [
        {
          "output_type": "execute_result",
          "data": {
            "text/plain": [
              "Region, subregion, country or area *                                                              Sub-Saharan Africa\n",
              "Total Population, as of 1 January (thousands)                                                             175662.711\n",
              "Total Population, as of 1 July (thousands)                                                                177491.856\n",
              "Male Population, as of 1 July (thousands)                                                                  88203.727\n",
              "Female Population, as of 1 July (thousands)                                                                89288.129\n",
              "Population Density, as of 1 July (persons per square km)                                                       8.118\n",
              "Population Sex Ratio, as of 1 July (males per 100 females)                                                    98.786\n",
              "Median Age, as of 1 July (years)                                                                              17.983\n",
              "Natural Change, Births minus Deaths (thousands)                                                             3662.851\n",
              "Rate of Natural Change (per 1,000 population)                                                                 20.631\n",
              "Population Change (thousands)                                                                               3658.289\n",
              "Population Growth Rate (percentage)                                                                            2.061\n",
              "Population Annual Doubling Time (years)                                                                       33.632\n",
              "Births (thousands)                                                                                          8369.119\n",
              "Births by women aged 15 to 19 (thousands)                                                                   1275.661\n",
              "Crude Birth Rate (births per 1,000 population)                                                                47.139\n",
              "Total Fertility Rate (live births per woman)                                                                   6.499\n",
              "Net Reproduction Rate (surviving daughters per woman)                                                          1.816\n",
              "Mean Age Childbearing (years)                                                                                 29.705\n",
              "Sex Ratio at Birth (males per 100 female births)                                                               103.5\n",
              "Total Deaths (thousands)                                                                                    4706.268\n",
              "Male Deaths (thousands)                                                                                     2442.483\n",
              "Female Deaths (thousands)                                                                                   2263.785\n",
              "Crude Death Rate (deaths per 1,000 population)                                                                26.508\n",
              "Life_Expectancy                                                                                               37.477\n",
              "Male Life Expectancy at Birth (years)                                                                         36.232\n",
              "Female Life Expectancy at Birth (years)                                                                       38.748\n",
              "Life Expectancy at Age 15, both sexes (years)                                                                 43.136\n",
              "Male Life Expectancy at Age 15 (years)                                                                        42.291\n",
              "Female Life Expectancy at Age 15 (years)                                                                      43.973\n",
              "Life Expectancy at Age 65, both sexes (years)                                                                 10.543\n",
              "Male Life Expectancy at Age 65 (years)                                                                        10.292\n",
              "Female Life Expectancy at Age 65 (years)                                                                      10.762\n",
              "Life Expectancy at Age 80, both sexes (years)                                                                  4.657\n",
              "Male Life Expectancy at Age 80 (years)                                                                         4.551\n",
              "Female Life Expectancy at Age 80 (years)                                                                       4.743\n",
              "Infant Deaths, under age 1 (thousands)                                                                      1458.856\n",
              "Infant Mortality Rate (infant deaths per 1,000 live births)                                                  176.345\n",
              "Live Births Surviving to Age 1 (thousands)                                                                  7363.228\n",
              "Under-Five Deaths, under age 5 (thousands)                                                                  2565.608\n",
              "Under-Five Mortality (deaths under age 5 per 1,000 live births)                                              315.772\n",
              "Mortality before Age 40, both sexes (deaths under age 40 per 1,000 live births)                              504.732\n",
              "Male Mortality before Age 40 (deaths under age 40 per 1,000 male live births)                                518.424\n",
              "Female Mortality before Age 40 (deaths under age 40 per 1,000 female live births)                            490.762\n",
              "Mortality before Age 60, both sexes (deaths under age 60 per 1,000 live births)                              661.661\n",
              "Male Mortality before Age 60 (deaths under age 60 per 1,000 male live births)                                682.397\n",
              "Female Mortality before Age 60 (deaths under age 60 per 1,000 female live births)                            640.425\n",
              "Mortality between Age 15 and 50, both sexes (deaths under age 50 per 1,000 alive at age 15)                  322.423\n",
              "Male Mortality between Age 15 and 50 (deaths under age 50 per 1,000 males alive at age 15)                   336.168\n",
              "Female Mortality between Age 15 and 50 (deaths under age 50 per 1,000 females alive at age 15)               308.554\n",
              "Mortality between Age 15 and 60, both sexes (deaths under age 60 per 1,000 alive at age 15)                  462.452\n",
              "Male Mortality between Age 15 and 60 (deaths under age 60 per 1,000 males alive at age 15)                   485.228\n",
              "Female Mortality between Age 15 and 60 (deaths under age 60 per 1,000 females alive at age 15)               439.873\n",
              "Net Number of Migrants (thousands)                                                                              -4.6\n",
              "Net Migration Rate (per 1,000 population)                                                                     -0.026\n",
              "Name: 73, dtype: object"
            ]
          },
          "metadata": {},
          "execution_count": 20
        }
      ]
    },
    {
      "cell_type": "code",
      "source": [
        "df[ 'Life_Expectancy'].iloc[641]"
      ],
      "metadata": {
        "colab": {
          "base_uri": "https://localhost:8080/"
        },
        "id": "LjtcTAIMI7K6",
        "outputId": "cd7704ac-a423-4a1e-fb15-52897d6b5285"
      },
      "execution_count": null,
      "outputs": [
        {
          "output_type": "execute_result",
          "data": {
            "text/plain": [
              "78.29"
            ]
          },
          "metadata": {},
          "execution_count": 94
        }
      ]
    },
    {
      "cell_type": "code",
      "source": [
        "indices = [i for i, x in enumerate(df2[\n",
        "    'Life_Expectancy'\n",
        "].tolist()) if x == '...']"
      ],
      "metadata": {
        "id": "9fxLjVy4pPV5"
      },
      "execution_count": null,
      "outputs": []
    },
    {
      "cell_type": "code",
      "source": [
        "indices"
      ],
      "metadata": {
        "colab": {
          "base_uri": "https://localhost:8080/"
        },
        "id": "_NIHkQDWpQz4",
        "outputId": "741e644f-53e8-426f-eef1-521fb13705eb"
      },
      "execution_count": null,
      "outputs": [
        {
          "output_type": "execute_result",
          "data": {
            "text/plain": [
              "[]"
            ]
          },
          "metadata": {},
          "execution_count": 22
        }
      ]
    },
    {
      "cell_type": "code",
      "source": [
        "df2[\n",
        "    'Life_Expectancy'\n",
        "] = pd.to_numeric(df2[\n",
        "    'Life_Expectancy'\n",
        "])"
      ],
      "metadata": {
        "id": "WPN-B_l3FYsh"
      },
      "execution_count": null,
      "outputs": []
    },
    {
      "cell_type": "code",
      "source": [
        "len(df2[\n",
        "    'Life_Expectancy'\n",
        "].unique())"
      ],
      "metadata": {
        "colab": {
          "base_uri": "https://localhost:8080/"
        },
        "id": "lypij2LVCmGa",
        "outputId": "c81d3b5f-f90f-4ab0-9c6d-af778ee2fa57"
      },
      "execution_count": null,
      "outputs": [
        {
          "output_type": "execute_result",
          "data": {
            "text/plain": [
              "16109"
            ]
          },
          "metadata": {},
          "execution_count": 24
        }
      ]
    },
    {
      "cell_type": "code",
      "source": [
        "df2[\n",
        "    'Life_Expectancy'\n",
        "].plot.hist(grid=True, bins=30, rwidth=0.8) \n",
        "plt.title('Life Expectancy') \n",
        "plt.ylabel('Count') \n",
        "plt.xlabel('Age')\n",
        "plt.legend(facecolor='white', edgecolor='grey',\n",
        "           loc='best', title='Legend', frameon=True, fontsize='medium')"
      ],
      "metadata": {
        "colab": {
          "base_uri": "https://localhost:8080/",
          "height": 313
        },
        "id": "IdOE785N-ThS",
        "outputId": "a8201906-2814-44fd-e885-6d18f2367940"
      },
      "execution_count": null,
      "outputs": [
        {
          "output_type": "execute_result",
          "data": {
            "text/plain": [
              "<matplotlib.legend.Legend at 0x7fc671064760>"
            ]
          },
          "metadata": {},
          "execution_count": 25
        },
        {
          "output_type": "display_data",
          "data": {
            "text/plain": [
              "<Figure size 432x288 with 1 Axes>"
            ],
            "image/png": "[encoded data removed]"
          },
          "metadata": {
            "needs_background": "light"
          }
        }
      ]
    },
    {
      "cell_type": "code",
      "source": [
        "skew(df2['Life_Expectancy'])"
      ],
      "metadata": {
        "colab": {
          "base_uri": "https://localhost:8080/"
        },
        "id": "AwV3n3jNq5fA",
        "outputId": "d0b41c9b-60b4-42c6-9758-f844a6c90bb3"
      },
      "execution_count": null,
      "outputs": [
        {
          "output_type": "execute_result",
          "data": {
            "text/plain": [
              "-0.623971319989828"
            ]
          },
          "metadata": {},
          "execution_count": 26
        }
      ]
    },
    {
      "cell_type": "code",
      "source": [
        "df2.columns\n"
      ],
      "metadata": {
        "colab": {
          "base_uri": "https://localhost:8080/"
        },
        "id": "fh-oUD7qGgKo",
        "outputId": "8b923d09-e65e-4528-c144-399fb1cd7054"
      },
      "execution_count": null,
      "outputs": [
        {
          "output_type": "execute_result",
          "data": {
            "text/plain": [
              "Index(['Region, subregion, country or area *',\n",
              "       'Total Population, as of 1 January (thousands)',\n",
              "       'Total Population, as of 1 July (thousands)',\n",
              "       'Male Population, as of 1 July (thousands)',\n",
              "       'Female Population, as of 1 July (thousands)',\n",
              "       'Population Density, as of 1 July (persons per square km)',\n",
              "       'Population Sex Ratio, as of 1 July (males per 100 females)',\n",
              "       'Median Age, as of 1 July (years)',\n",
              "       'Natural Change, Births minus Deaths (thousands)',\n",
              "       'Rate of Natural Change (per 1,000 population)',\n",
              "       'Population Change (thousands)', 'Population Growth Rate (percentage)',\n",
              "       'Population Annual Doubling Time (years)', 'Births (thousands)',\n",
              "       'Births by women aged 15 to 19 (thousands)',\n",
              "       'Crude Birth Rate (births per 1,000 population)',\n",
              "       'Total Fertility Rate (live births per woman)',\n",
              "       'Net Reproduction Rate (surviving daughters per woman)',\n",
              "       'Mean Age Childbearing (years)',\n",
              "       'Sex Ratio at Birth (males per 100 female births)',\n",
              "       'Total Deaths (thousands)', 'Male Deaths (thousands)',\n",
              "       'Female Deaths (thousands)',\n",
              "       'Crude Death Rate (deaths per 1,000 population)', 'Life_Expectancy',\n",
              "       'Male Life Expectancy at Birth (years)',\n",
              "       'Female Life Expectancy at Birth (years)',\n",
              "       'Life Expectancy at Age 15, both sexes (years)',\n",
              "       'Male Life Expectancy at Age 15 (years)',\n",
              "       'Female Life Expectancy at Age 15 (years)',\n",
              "       'Life Expectancy at Age 65, both sexes (years)',\n",
              "       'Male Life Expectancy at Age 65 (years)',\n",
              "       'Female Life Expectancy at Age 65 (years)',\n",
              "       'Life Expectancy at Age 80, both sexes (years)',\n",
              "       'Male Life Expectancy at Age 80 (years)',\n",
              "       'Female Life Expectancy at Age 80 (years)',\n",
              "       'Infant Deaths, under age 1 (thousands)',\n",
              "       'Infant Mortality Rate (infant deaths per 1,000 live births)',\n",
              "       'Live Births Surviving to Age 1 (thousands)',\n",
              "       'Under-Five Deaths, under age 5 (thousands)',\n",
              "       'Under-Five Mortality (deaths under age 5 per 1,000 live births)',\n",
              "       'Mortality before Age 40, both sexes (deaths under age 40 per 1,000 live births)',\n",
              "       'Male Mortality before Age 40 (deaths under age 40 per 1,000 male live births)',\n",
              "       'Female Mortality before Age 40 (deaths under age 40 per 1,000 female live births)',\n",
              "       'Mortality before Age 60, both sexes (deaths under age 60 per 1,000 live births)',\n",
              "       'Male Mortality before Age 60 (deaths under age 60 per 1,000 male live births)',\n",
              "       'Female Mortality before Age 60 (deaths under age 60 per 1,000 female live births)',\n",
              "       'Mortality between Age 15 and 50, both sexes (deaths under age 50 per 1,000 alive at age 15)',\n",
              "       'Male Mortality between Age 15 and 50 (deaths under age 50 per 1,000 males alive at age 15)',\n",
              "       'Female Mortality between Age 15 and 50 (deaths under age 50 per 1,000 females alive at age 15)',\n",
              "       'Mortality between Age 15 and 60, both sexes (deaths under age 60 per 1,000 alive at age 15)',\n",
              "       'Male Mortality between Age 15 and 60 (deaths under age 60 per 1,000 males alive at age 15)',\n",
              "       'Female Mortality between Age 15 and 60 (deaths under age 60 per 1,000 females alive at age 15)',\n",
              "       'Net Number of Migrants (thousands)',\n",
              "       'Net Migration Rate (per 1,000 population)'],\n",
              "      dtype='object')"
            ]
          },
          "metadata": {},
          "execution_count": 27
        }
      ]
    },
    {
      "cell_type": "code",
      "source": [
        "\n",
        "\n",
        "df2[\n",
        "    'Total Population, as of 1 January (thousands)'\n",
        "    'Total Population, as of 1 July (thousands)'\n",
        "    ]\n",
        "] = pd.to_numeric(df2[\n",
        "    'Total Population, as of 1 January (thousands)',\n",
        "    'Total Population, as of 1 July (thousands)'\n",
        "    \n",
        "])"
      ],
      "metadata": {
        "colab": {
          "base_uri": "https://localhost:8080/",
          "height": 389
        },
        "id": "0_YSGJXKjkWr",
        "outputId": "ede21555-67be-40a5-849d-facceea89e6f"
      },
      "execution_count": null,
      "outputs": [
        {
          "output_type": "error",
          "ename": "TypeError",
          "evalue": "ignored",
          "traceback": [
            "\u001b[0;31m---------------------------------------------------------------------------\u001b[0m",
            "\u001b[0;31mTypeError\u001b[0m                                 Traceback (most recent call last)",
            "\u001b[0;32m<ipython-input-125-32c4a972a11e>\u001b[0m in \u001b[0;36m<module>\u001b[0;34m\u001b[0m\n\u001b[1;32m      3\u001b[0m     \u001b[0;34m'Total Population, as of 1 July (thousands)'\u001b[0m\u001b[0;34m\u001b[0m\u001b[0;34m\u001b[0m\u001b[0m\n\u001b[1;32m      4\u001b[0m     ]\n\u001b[0;32m----> 5\u001b[0;31m ] = pd.to_numeric(df2[\n\u001b[0m\u001b[1;32m      6\u001b[0m     ['Total Population, as of 1 January (thousands)',\n\u001b[1;32m      7\u001b[0m     \u001b[0;34m'Total Population, as of 1 July (thousands)'\u001b[0m\u001b[0;34m\u001b[0m\u001b[0;34m\u001b[0m\u001b[0m\n",
            "\u001b[0;32m/usr/local/lib/python3.8/dist-packages/pandas/core/tools/numeric.py\u001b[0m in \u001b[0;36mto_numeric\u001b[0;34m(arg, errors, downcast)\u001b[0m\n\u001b[1;32m    161\u001b[0m         \u001b[0mvalues\u001b[0m \u001b[0;34m=\u001b[0m \u001b[0mnp\u001b[0m\u001b[0;34m.\u001b[0m\u001b[0marray\u001b[0m\u001b[0;34m(\u001b[0m\u001b[0;34m[\u001b[0m\u001b[0marg\u001b[0m\u001b[0;34m]\u001b[0m\u001b[0;34m,\u001b[0m \u001b[0mdtype\u001b[0m\u001b[0;34m=\u001b[0m\u001b[0;34m\"O\"\u001b[0m\u001b[0;34m)\u001b[0m\u001b[0;34m\u001b[0m\u001b[0;34m\u001b[0m\u001b[0m\n\u001b[1;32m    162\u001b[0m     \u001b[0;32melif\u001b[0m \u001b[0mgetattr\u001b[0m\u001b[0;34m(\u001b[0m\u001b[0marg\u001b[0m\u001b[0;34m,\u001b[0m \u001b[0;34m\"ndim\"\u001b[0m\u001b[0;34m,\u001b[0m \u001b[0;36m1\u001b[0m\u001b[0;34m)\u001b[0m \u001b[0;34m>\u001b[0m \u001b[0;36m1\u001b[0m\u001b[0;34m:\u001b[0m\u001b[0;34m\u001b[0m\u001b[0;34m\u001b[0m\u001b[0m\n\u001b[0;32m--> 163\u001b[0;31m         \u001b[0;32mraise\u001b[0m \u001b[0mTypeError\u001b[0m\u001b[0;34m(\u001b[0m\u001b[0;34m\"arg must be a list, tuple, 1-d array, or Series\"\u001b[0m\u001b[0;34m)\u001b[0m\u001b[0;34m\u001b[0m\u001b[0;34m\u001b[0m\u001b[0m\n\u001b[0m\u001b[1;32m    164\u001b[0m     \u001b[0;32melse\u001b[0m\u001b[0;34m:\u001b[0m\u001b[0;34m\u001b[0m\u001b[0;34m\u001b[0m\u001b[0m\n\u001b[1;32m    165\u001b[0m         \u001b[0mvalues\u001b[0m \u001b[0;34m=\u001b[0m \u001b[0marg\u001b[0m\u001b[0;34m\u001b[0m\u001b[0;34m\u001b[0m\u001b[0m\n",
            "\u001b[0;31mTypeError\u001b[0m: arg must be a list, tuple, 1-d array, or Series"
          ]
        }
      ]
    },
    {
      "cell_type": "code",
      "source": [
        "df2[\n",
        "    'Total Population, as of 1 July (thousands)'\n",
        "    ]= pd.to_numeric(df2[\n",
        "    'Total Population, as of 1 July (thousands)'\n",
        "])"
      ],
      "metadata": {
        "id": "rvuJYhSBqPmY"
      },
      "execution_count": null,
      "outputs": []
    },
    {
      "cell_type": "code",
      "source": [
        "df2[\n",
        "    'Male Population, as of 1 July (thousands)'\n",
        "    ]= pd.to_numeric(df2[\n",
        "    'Male Population, as of 1 July (thousands)'\n",
        "])"
      ],
      "metadata": {
        "id": "RP3JDyLLqZlK"
      },
      "execution_count": null,
      "outputs": []
    },
    {
      "cell_type": "code",
      "source": [
        "df2[\n",
        "    'Female Population, as of 1 July (thousands)'\n",
        "    ]= pd.to_numeric(df2[\n",
        "    'Female Population, as of 1 July (thousands)'\n",
        "])"
      ],
      "metadata": {
        "id": "Yk-2DSrxqfwf"
      },
      "execution_count": null,
      "outputs": []
    },
    {
      "cell_type": "code",
      "source": [
        "df2[\n",
        "    'Population Density, as of 1 July (persons per square km)'\n",
        "    ]= pd.to_numeric(df2[\n",
        "    'Population Density, as of 1 July (persons per square km)'\n",
        "])"
      ],
      "metadata": {
        "id": "PDJd3b-DrAin"
      },
      "execution_count": null,
      "outputs": []
    },
    {
      "cell_type": "code",
      "source": [
        "df2[\n",
        "    'Population Sex Ratio, as of 1 July (males per 100 females)'\n",
        "    ]= pd.to_numeric(df2[\n",
        "    'Population Sex Ratio, as of 1 July (males per 100 females)'\n",
        "])"
      ],
      "metadata": {
        "id": "B7K4OYp1rG0H"
      },
      "execution_count": null,
      "outputs": []
    },
    {
      "cell_type": "code",
      "source": [
        "df2[\n",
        "    'Median Age, as of 1 July (years)'\n",
        "    ]= pd.to_numeric(df2[\n",
        "    'Median Age, as of 1 July (years)'\n",
        "])"
      ],
      "metadata": {
        "id": "NLTWRGmLrO4-"
      },
      "execution_count": null,
      "outputs": []
    },
    {
      "cell_type": "code",
      "source": [
        "df2[\n",
        "    'Natural Change, Births minus Deaths (thousands)'\n",
        "    ]= pd.to_numeric(df2[\n",
        "    'Natural Change, Births minus Deaths (thousands)'\n",
        "])"
      ],
      "metadata": {
        "id": "ZwAARtWzraem"
      },
      "execution_count": null,
      "outputs": []
    },
    {
      "cell_type": "code",
      "source": [
        "df2[\n",
        "    'Natural Change, Births minus Deaths (thousands)'\n",
        "    ]= pd.to_numeric(df2[\n",
        "    'Natural Change, Births minus Deaths (thousands)'\n",
        "])"
      ],
      "metadata": {
        "id": "GcfTj0-2rgeP"
      },
      "execution_count": null,
      "outputs": []
    },
    {
      "cell_type": "code",
      "source": [
        "df2[\n",
        "    'Rate of Natural Change (per 1,000 population)'\n",
        "    ]= pd.to_numeric(df2[\n",
        "    'Rate of Natural Change (per 1,000 population)'\n",
        "])"
      ],
      "metadata": {
        "id": "DSVzEkJuBv7b"
      },
      "execution_count": null,
      "outputs": []
    },
    {
      "cell_type": "code",
      "source": [
        "df2[\n",
        "    'Population Change (thousands)'\n",
        "    ]= pd.to_numeric(df2[\n",
        "    'Population Change (thousands)'\n",
        "])"
      ],
      "metadata": {
        "id": "_Zt5OLkpB2n7"
      },
      "execution_count": null,
      "outputs": []
    },
    {
      "cell_type": "code",
      "source": [
        "df2[\n",
        "    'Population Growth Rate (percentage)'\n",
        "    ]= pd.to_numeric(df2[\n",
        "    'Population Growth Rate (percentage)'\n",
        "])"
      ],
      "metadata": {
        "id": "2POcz4ZxB9Xl"
      },
      "execution_count": null,
      "outputs": []
    },
    {
      "cell_type": "code",
      "source": [
        "df2[\n",
        "    'Population Annual Doubling Time (years)'\n",
        "    ]= pd.to_numeric(df2[\n",
        "    'Population Annual Doubling Time (years)'\n",
        "])"
      ],
      "metadata": {
        "colab": {
          "base_uri": "https://localhost:8080/",
          "height": 340
        },
        "id": "q0Hk_QHTCDZb",
        "outputId": "bea8a795-bba3-4a39-b89c-be3ba7d7dbfc"
      },
      "execution_count": null,
      "outputs": [
        {
          "output_type": "error",
          "ename": "ValueError",
          "evalue": "ignored",
          "traceback": [
            "\u001b[0;31m---------------------------------------------------------------------------\u001b[0m",
            "\u001b[0;31mValueError\u001b[0m                                Traceback (most recent call last)",
            "\u001b[0;32m/usr/local/lib/python3.8/dist-packages/pandas/_libs/lib.pyx\u001b[0m in \u001b[0;36mpandas._libs.lib.maybe_convert_numeric\u001b[0;34m()\u001b[0m\n",
            "\u001b[0;31mValueError\u001b[0m: Unable to parse string \"...\"",
            "\nDuring handling of the above exception, another exception occurred:\n",
            "\u001b[0;31mValueError\u001b[0m                                Traceback (most recent call last)",
            "\u001b[0;32m<ipython-input-40-e33cc4c96086>\u001b[0m in \u001b[0;36m<module>\u001b[0;34m\u001b[0m\n\u001b[1;32m      1\u001b[0m df2[\n\u001b[1;32m      2\u001b[0m     \u001b[0;34m'Population Annual Doubling Time (years)'\u001b[0m\u001b[0;34m\u001b[0m\u001b[0;34m\u001b[0m\u001b[0m\n\u001b[0;32m----> 3\u001b[0;31m     ]= pd.to_numeric(df2[\n\u001b[0m\u001b[1;32m      4\u001b[0m     \u001b[0;34m'Population Annual Doubling Time (years)'\u001b[0m\u001b[0;34m\u001b[0m\u001b[0;34m\u001b[0m\u001b[0m\n\u001b[1;32m      5\u001b[0m ])\n",
            "\u001b[0;32m/usr/local/lib/python3.8/dist-packages/pandas/core/tools/numeric.py\u001b[0m in \u001b[0;36mto_numeric\u001b[0;34m(arg, errors, downcast)\u001b[0m\n\u001b[1;32m    181\u001b[0m         \u001b[0mcoerce_numeric\u001b[0m \u001b[0;34m=\u001b[0m \u001b[0merrors\u001b[0m \u001b[0;32mnot\u001b[0m \u001b[0;32min\u001b[0m \u001b[0;34m(\u001b[0m\u001b[0;34m\"ignore\"\u001b[0m\u001b[0;34m,\u001b[0m \u001b[0;34m\"raise\"\u001b[0m\u001b[0;34m)\u001b[0m\u001b[0;34m\u001b[0m\u001b[0;34m\u001b[0m\u001b[0m\n\u001b[1;32m    182\u001b[0m         \u001b[0;32mtry\u001b[0m\u001b[0;34m:\u001b[0m\u001b[0;34m\u001b[0m\u001b[0;34m\u001b[0m\u001b[0m\n\u001b[0;32m--> 183\u001b[0;31m             values, _ = lib.maybe_convert_numeric(\n\u001b[0m\u001b[1;32m    184\u001b[0m                 \u001b[0mvalues\u001b[0m\u001b[0;34m,\u001b[0m \u001b[0mset\u001b[0m\u001b[0;34m(\u001b[0m\u001b[0;34m)\u001b[0m\u001b[0;34m,\u001b[0m \u001b[0mcoerce_numeric\u001b[0m\u001b[0;34m=\u001b[0m\u001b[0mcoerce_numeric\u001b[0m\u001b[0;34m\u001b[0m\u001b[0;34m\u001b[0m\u001b[0m\n\u001b[1;32m    185\u001b[0m             )\n",
            "\u001b[0;32m/usr/local/lib/python3.8/dist-packages/pandas/_libs/lib.pyx\u001b[0m in \u001b[0;36mpandas._libs.lib.maybe_convert_numeric\u001b[0;34m()\u001b[0m\n",
            "\u001b[0;31mValueError\u001b[0m: Unable to parse string \"...\" at position 357"
          ]
        }
      ]
    },
    {
      "cell_type": "code",
      "source": [],
      "metadata": {
        "id": "o2TQEWxjCKp7"
      },
      "execution_count": null,
      "outputs": []
    },
    {
      "cell_type": "code",
      "source": [
        "df2.columns"
      ],
      "metadata": {
        "colab": {
          "base_uri": "https://localhost:8080/"
        },
        "id": "1HIIfGMzBq47",
        "outputId": "d44e6e6a-c621-489e-89f3-b21b99eed903"
      },
      "execution_count": null,
      "outputs": [
        {
          "output_type": "execute_result",
          "data": {
            "text/plain": [
              "Index(['Region, subregion, country or area *',\n",
              "       'Total Population, as of 1 January (thousands)',\n",
              "       'Total Population, as of 1 July (thousands)',\n",
              "       'Male Population, as of 1 July (thousands)',\n",
              "       'Female Population, as of 1 July (thousands)',\n",
              "       'Population Density, as of 1 July (persons per square km)',\n",
              "       'Population Sex Ratio, as of 1 July (males per 100 females)',\n",
              "       'Median Age, as of 1 July (years)',\n",
              "       'Natural Change, Births minus Deaths (thousands)',\n",
              "       'Rate of Natural Change (per 1,000 population)',\n",
              "       'Population Change (thousands)', 'Population Growth Rate (percentage)',\n",
              "       'Population Annual Doubling Time (years)', 'Births (thousands)',\n",
              "       'Births by women aged 15 to 19 (thousands)',\n",
              "       'Crude Birth Rate (births per 1,000 population)',\n",
              "       'Total Fertility Rate (live births per woman)',\n",
              "       'Net Reproduction Rate (surviving daughters per woman)',\n",
              "       'Mean Age Childbearing (years)',\n",
              "       'Sex Ratio at Birth (males per 100 female births)',\n",
              "       'Total Deaths (thousands)', 'Male Deaths (thousands)',\n",
              "       'Female Deaths (thousands)',\n",
              "       'Crude Death Rate (deaths per 1,000 population)', 'Life_Expectancy',\n",
              "       'Male Life Expectancy at Birth (years)',\n",
              "       'Female Life Expectancy at Birth (years)',\n",
              "       'Life Expectancy at Age 15, both sexes (years)',\n",
              "       'Male Life Expectancy at Age 15 (years)',\n",
              "       'Female Life Expectancy at Age 15 (years)',\n",
              "       'Life Expectancy at Age 65, both sexes (years)',\n",
              "       'Male Life Expectancy at Age 65 (years)',\n",
              "       'Female Life Expectancy at Age 65 (years)',\n",
              "       'Life Expectancy at Age 80, both sexes (years)',\n",
              "       'Male Life Expectancy at Age 80 (years)',\n",
              "       'Female Life Expectancy at Age 80 (years)',\n",
              "       'Infant Deaths, under age 1 (thousands)',\n",
              "       'Infant Mortality Rate (infant deaths per 1,000 live births)',\n",
              "       'Live Births Surviving to Age 1 (thousands)',\n",
              "       'Under-Five Deaths, under age 5 (thousands)',\n",
              "       'Under-Five Mortality (deaths under age 5 per 1,000 live births)',\n",
              "       'Mortality before Age 40, both sexes (deaths under age 40 per 1,000 live births)',\n",
              "       'Male Mortality before Age 40 (deaths under age 40 per 1,000 male live births)',\n",
              "       'Female Mortality before Age 40 (deaths under age 40 per 1,000 female live births)',\n",
              "       'Mortality before Age 60, both sexes (deaths under age 60 per 1,000 live births)',\n",
              "       'Male Mortality before Age 60 (deaths under age 60 per 1,000 male live births)',\n",
              "       'Female Mortality before Age 60 (deaths under age 60 per 1,000 female live births)',\n",
              "       'Mortality between Age 15 and 50, both sexes (deaths under age 50 per 1,000 alive at age 15)',\n",
              "       'Male Mortality between Age 15 and 50 (deaths under age 50 per 1,000 males alive at age 15)',\n",
              "       'Female Mortality between Age 15 and 50 (deaths under age 50 per 1,000 females alive at age 15)',\n",
              "       'Mortality between Age 15 and 60, both sexes (deaths under age 60 per 1,000 alive at age 15)',\n",
              "       'Male Mortality between Age 15 and 60 (deaths under age 60 per 1,000 males alive at age 15)',\n",
              "       'Female Mortality between Age 15 and 60 (deaths under age 60 per 1,000 females alive at age 15)',\n",
              "       'Net Number of Migrants (thousands)',\n",
              "       'Net Migration Rate (per 1,000 population)'],\n",
              "      dtype='object')"
            ]
          },
          "metadata": {},
          "execution_count": 36
        }
      ]
    },
    {
      "cell_type": "code",
      "source": [
        "# preprocess \n",
        "col = list(df.columns)[1:]\n",
        "\n",
        "for y in col:\n",
        "  indices = [i for i, x in enumerate(df2[\n",
        "      y\n",
        "  ].tolist()) if not isinstance(x, float)]\n",
        "  df2.drop(indices,inplace=True,errors='ignore')\n",
        "\n",
        "for x in col:\n",
        " df2[\n",
        "    x\n",
        "] = pd.to_numeric(df2[\n",
        "    x\n",
        "])"
      ],
      "metadata": {
        "colab": {
          "base_uri": "https://localhost:8080/",
          "height": 340
        },
        "id": "5h4KPjxmmqFw",
        "outputId": "d7f3df99-b590-4c68-98a4-621e89bde48c"
      },
      "execution_count": null,
      "outputs": [
        {
          "output_type": "error",
          "ename": "ValueError",
          "evalue": "ignored",
          "traceback": [
            "\u001b[0;31m---------------------------------------------------------------------------\u001b[0m",
            "\u001b[0;31mValueError\u001b[0m                                Traceback (most recent call last)",
            "\u001b[0;32m/usr/local/lib/python3.8/dist-packages/pandas/_libs/lib.pyx\u001b[0m in \u001b[0;36mpandas._libs.lib.maybe_convert_numeric\u001b[0;34m()\u001b[0m\n",
            "\u001b[0;31mValueError\u001b[0m: Unable to parse string \"...\"",
            "\nDuring handling of the above exception, another exception occurred:\n",
            "\u001b[0;31mValueError\u001b[0m                                Traceback (most recent call last)",
            "\u001b[0;32m<ipython-input-129-42963fa1129f>\u001b[0m in \u001b[0;36m<module>\u001b[0;34m\u001b[0m\n\u001b[1;32m     11\u001b[0m  df2[\n\u001b[1;32m     12\u001b[0m     \u001b[0mx\u001b[0m\u001b[0;34m\u001b[0m\u001b[0;34m\u001b[0m\u001b[0m\n\u001b[0;32m---> 13\u001b[0;31m ] = pd.to_numeric(df2[\n\u001b[0m\u001b[1;32m     14\u001b[0m     \u001b[0mx\u001b[0m\u001b[0;34m\u001b[0m\u001b[0;34m\u001b[0m\u001b[0m\n\u001b[1;32m     15\u001b[0m ])\n",
            "\u001b[0;32m/usr/local/lib/python3.8/dist-packages/pandas/core/tools/numeric.py\u001b[0m in \u001b[0;36mto_numeric\u001b[0;34m(arg, errors, downcast)\u001b[0m\n\u001b[1;32m    181\u001b[0m         \u001b[0mcoerce_numeric\u001b[0m \u001b[0;34m=\u001b[0m \u001b[0merrors\u001b[0m \u001b[0;32mnot\u001b[0m \u001b[0;32min\u001b[0m \u001b[0;34m(\u001b[0m\u001b[0;34m\"ignore\"\u001b[0m\u001b[0;34m,\u001b[0m \u001b[0;34m\"raise\"\u001b[0m\u001b[0;34m)\u001b[0m\u001b[0;34m\u001b[0m\u001b[0;34m\u001b[0m\u001b[0m\n\u001b[1;32m    182\u001b[0m         \u001b[0;32mtry\u001b[0m\u001b[0;34m:\u001b[0m\u001b[0;34m\u001b[0m\u001b[0;34m\u001b[0m\u001b[0m\n\u001b[0;32m--> 183\u001b[0;31m             values, _ = lib.maybe_convert_numeric(\n\u001b[0m\u001b[1;32m    184\u001b[0m                 \u001b[0mvalues\u001b[0m\u001b[0;34m,\u001b[0m \u001b[0mset\u001b[0m\u001b[0;34m(\u001b[0m\u001b[0;34m)\u001b[0m\u001b[0;34m,\u001b[0m \u001b[0mcoerce_numeric\u001b[0m\u001b[0;34m=\u001b[0m\u001b[0mcoerce_numeric\u001b[0m\u001b[0;34m\u001b[0m\u001b[0;34m\u001b[0m\u001b[0m\n\u001b[1;32m    185\u001b[0m             )\n",
            "\u001b[0;32m/usr/local/lib/python3.8/dist-packages/pandas/_libs/lib.pyx\u001b[0m in \u001b[0;36mpandas._libs.lib.maybe_convert_numeric\u001b[0;34m()\u001b[0m\n",
            "\u001b[0;31mValueError\u001b[0m: Unable to parse string \"...\" at position 267"
          ]
        }
      ]
    },
    {
      "cell_type": "code",
      "source": [
        "df2[\n",
        "    'Mean Age Childbearing (years)'\n",
        "] = pd.to_numeric(df2[\n",
        "    'Mean Age Childbearing (years)'\n",
        "])"
      ],
      "metadata": {
        "id": "XWU5SMQnPO4P"
      },
      "execution_count": null,
      "outputs": []
    },
    {
      "cell_type": "code",
      "source": [
        "df2.corr()"
      ],
      "metadata": {
        "colab": {
          "base_uri": "https://localhost:8080/",
          "height": 112
        },
        "id": "RZIBnnHWOMJw",
        "outputId": "d14d7148-8c75-4ec9-b519-2c519b915930"
      },
      "execution_count": null,
      "outputs": [
        {
          "output_type": "execute_result",
          "data": {
            "text/plain": [
              "                               Mean Age Childbearing (years)  Life_Expectancy\n",
              "Mean Age Childbearing (years)                       1.000000        -0.272303\n",
              "Life_Expectancy                                    -0.272303         1.000000"
            ],
            "text/html": [
              "\n",
              "  <div id=\"df-fb209656-9733-4a81-aa26-d06bb0840d39\">\n",
              "    <div class=\"colab-df-container\">\n",
              "      <div>\n",
              "<style scoped>\n",
              "    .dataframe tbody tr th:only-of-type {\n",
              "        vertical-align: middle;\n",
              "    }\n",
              "\n",
              "    .dataframe tbody tr th {\n",
              "        vertical-align: top;\n",
              "    }\n",
              "\n",
              "    .dataframe thead th {\n",
              "        text-align: right;\n",
              "    }\n",
              "</style>\n",
              "<table border=\"1\" class=\"dataframe\">\n",
              "  <thead>\n",
              "    <tr style=\"text-align: right;\">\n",
              "      <th></th>\n",
              "      <th>Mean Age Childbearing (years)</th>\n",
              "      <th>Life_Expectancy</th>\n",
              "    </tr>\n",
              "  </thead>\n",
              "  <tbody>\n",
              "    <tr>\n",
              "      <th>Mean Age Childbearing (years)</th>\n",
              "      <td>1.000000</td>\n",
              "      <td>-0.272303</td>\n",
              "    </tr>\n",
              "    <tr>\n",
              "      <th>Life_Expectancy</th>\n",
              "      <td>-0.272303</td>\n",
              "      <td>1.000000</td>\n",
              "    </tr>\n",
              "  </tbody>\n",
              "</table>\n",
              "</div>\n",
              "      <button class=\"colab-df-convert\" onclick=\"convertToInteractive('df-fb209656-9733-4a81-aa26-d06bb0840d39')\"\n",
              "              title=\"Convert this dataframe to an interactive table.\"\n",
              "              style=\"display:none;\">\n",
              "        \n",
              "  <svg xmlns=\"http://www.w3.org/2000/svg\" height=\"24px\"viewBox=\"0 0 24 24\"\n",
              "       width=\"24px\">\n",
              "    <path d=\"M0 0h24v24H0V0z\" fill=\"none\"/>\n",
              "    <path d=\"M18.56 5.44l.94 2.06.94-2.06 2.06-.94-2.06-.94-.94-2.06-.94 2.06-2.06.94zm-11 1L8.5 8.5l.94-2.06 2.06-.94-2.06-.94L8.5 2.5l-.94 2.06-2.06.94zm10 10l.94 2.06.94-2.06 2.06-.94-2.06-.94-.94-2.06-.94 2.06-2.06.94z\"/><path d=\"M17.41 7.96l-1.37-1.37c-.4-.4-.92-.59-1.43-.59-.52 0-1.04.2-1.43.59L10.3 9.45l-7.72 7.72c-.78.78-.78 2.05 0 2.83L4 21.41c.39.39.9.59 1.41.59.51 0 1.02-.2 1.41-.59l7.78-7.78 2.81-2.81c.8-.78.8-2.07 0-2.86zM5.41 20L4 18.59l7.72-7.72 1.47 1.35L5.41 20z\"/>\n",
              "  </svg>\n",
              "      </button>\n",
              "      \n",
              "  <style>\n",
              "    .colab-df-container {\n",
              "      display:flex;\n",
              "      flex-wrap:wrap;\n",
              "      gap: 12px;\n",
              "    }\n",
              "\n",
              "    .colab-df-convert {\n",
              "      background-color: #E8F0FE;\n",
              "      border: none;\n",
              "      border-radius: 50%;\n",
              "      cursor: pointer;\n",
              "      display: none;\n",
              "      fill: #1967D2;\n",
              "      height: 32px;\n",
              "      padding: 0 0 0 0;\n",
              "      width: 32px;\n",
              "    }\n",
              "\n",
              "    .colab-df-convert:hover {\n",
              "      background-color: #E2EBFA;\n",
              "      box-shadow: 0px 1px 2px rgba(60, 64, 67, 0.3), 0px 1px 3px 1px rgba(60, 64, 67, 0.15);\n",
              "      fill: #174EA6;\n",
              "    }\n",
              "\n",
              "    [theme=dark] .colab-df-convert {\n",
              "      background-color: #3B4455;\n",
              "      fill: #D2E3FC;\n",
              "    }\n",
              "\n",
              "    [theme=dark] .colab-df-convert:hover {\n",
              "      background-color: #434B5C;\n",
              "      box-shadow: 0px 1px 3px 1px rgba(0, 0, 0, 0.15);\n",
              "      filter: drop-shadow(0px 1px 2px rgba(0, 0, 0, 0.3));\n",
              "      fill: #FFFFFF;\n",
              "    }\n",
              "  </style>\n",
              "\n",
              "      <script>\n",
              "        const buttonEl =\n",
              "          document.querySelector('#df-fb209656-9733-4a81-aa26-d06bb0840d39 button.colab-df-convert');\n",
              "        buttonEl.style.display =\n",
              "          google.colab.kernel.accessAllowed ? 'block' : 'none';\n",
              "\n",
              "        async function convertToInteractive(key) {\n",
              "          const element = document.querySelector('#df-fb209656-9733-4a81-aa26-d06bb0840d39');\n",
              "          const dataTable =\n",
              "            await google.colab.kernel.invokeFunction('convertToInteractive',\n",
              "                                                     [key], {});\n",
              "          if (!dataTable) return;\n",
              "\n",
              "          const docLinkHtml = 'Like what you see? Visit the ' +\n",
              "            '<a target=\"_blank\" href=https://colab.research.google.com/notebooks/data_table.ipynb>data table notebook</a>'\n",
              "            + ' to learn more about interactive tables.';\n",
              "          element.innerHTML = '';\n",
              "          dataTable['output_type'] = 'display_data';\n",
              "          await google.colab.output.renderOutput(dataTable, element);\n",
              "          const docLink = document.createElement('div');\n",
              "          docLink.innerHTML = docLinkHtml;\n",
              "          element.appendChild(docLink);\n",
              "        }\n",
              "      </script>\n",
              "    </div>\n",
              "  </div>\n",
              "  "
            ]
          },
          "metadata": {},
          "execution_count": 113
        }
      ]
    },
    {
      "cell_type": "code",
      "source": [
        "df2.columns"
      ],
      "metadata": {
        "colab": {
          "base_uri": "https://localhost:8080/"
        },
        "id": "5HdX8k-YOl9Q",
        "outputId": "fe6a6450-e43b-44b1-947d-59aefdaf9ddf"
      },
      "execution_count": null,
      "outputs": [
        {
          "output_type": "execute_result",
          "data": {
            "text/plain": [
              "Index(['Region, subregion, country or area *',\n",
              "       'Total Population, as of 1 January (thousands)',\n",
              "       'Total Population, as of 1 July (thousands)',\n",
              "       'Male Population, as of 1 July (thousands)',\n",
              "       'Female Population, as of 1 July (thousands)',\n",
              "       'Population Density, as of 1 July (persons per square km)',\n",
              "       'Population Sex Ratio, as of 1 July (males per 100 females)',\n",
              "       'Median Age, as of 1 July (years)',\n",
              "       'Natural Change, Births minus Deaths (thousands)',\n",
              "       'Rate of Natural Change (per 1,000 population)',\n",
              "       'Population Change (thousands)', 'Population Growth Rate (percentage)',\n",
              "       'Population Annual Doubling Time (years)', 'Births (thousands)',\n",
              "       'Births by women aged 15 to 19 (thousands)',\n",
              "       'Crude Birth Rate (births per 1,000 population)',\n",
              "       'Total Fertility Rate (live births per woman)',\n",
              "       'Net Reproduction Rate (surviving daughters per woman)',\n",
              "       'Mean Age Childbearing (years)',\n",
              "       'Sex Ratio at Birth (males per 100 female births)',\n",
              "       'Total Deaths (thousands)', 'Male Deaths (thousands)',\n",
              "       'Female Deaths (thousands)',\n",
              "       'Crude Death Rate (deaths per 1,000 population)', 'Life_Expectancy',\n",
              "       'Male Life Expectancy at Birth (years)',\n",
              "       'Female Life Expectancy at Birth (years)',\n",
              "       'Life Expectancy at Age 15, both sexes (years)',\n",
              "       'Male Life Expectancy at Age 15 (years)',\n",
              "       'Female Life Expectancy at Age 15 (years)',\n",
              "       'Life Expectancy at Age 65, both sexes (years)',\n",
              "       'Male Life Expectancy at Age 65 (years)',\n",
              "       'Female Life Expectancy at Age 65 (years)',\n",
              "       'Life Expectancy at Age 80, both sexes (years)',\n",
              "       'Male Life Expectancy at Age 80 (years)',\n",
              "       'Female Life Expectancy at Age 80 (years)',\n",
              "       'Infant Deaths, under age 1 (thousands)',\n",
              "       'Infant Mortality Rate (infant deaths per 1,000 live births)',\n",
              "       'Live Births Surviving to Age 1 (thousands)',\n",
              "       'Under-Five Deaths, under age 5 (thousands)',\n",
              "       'Under-Five Mortality (deaths under age 5 per 1,000 live births)',\n",
              "       'Mortality before Age 40, both sexes (deaths under age 40 per 1,000 live births)',\n",
              "       'Male Mortality before Age 40 (deaths under age 40 per 1,000 male live births)',\n",
              "       'Female Mortality before Age 40 (deaths under age 40 per 1,000 female live births)',\n",
              "       'Mortality before Age 60, both sexes (deaths under age 60 per 1,000 live births)',\n",
              "       'Male Mortality before Age 60 (deaths under age 60 per 1,000 male live births)',\n",
              "       'Female Mortality before Age 60 (deaths under age 60 per 1,000 female live births)',\n",
              "       'Mortality between Age 15 and 50, both sexes (deaths under age 50 per 1,000 alive at age 15)',\n",
              "       'Male Mortality between Age 15 and 50 (deaths under age 50 per 1,000 males alive at age 15)',\n",
              "       'Female Mortality between Age 15 and 50 (deaths under age 50 per 1,000 females alive at age 15)',\n",
              "       'Mortality between Age 15 and 60, both sexes (deaths under age 60 per 1,000 alive at age 15)',\n",
              "       'Male Mortality between Age 15 and 60 (deaths under age 60 per 1,000 males alive at age 15)',\n",
              "       'Female Mortality between Age 15 and 60 (deaths under age 60 per 1,000 females alive at age 15)',\n",
              "       'Net Number of Migrants (thousands)',\n",
              "       'Net Migration Rate (per 1,000 population)'],\n",
              "      dtype='object')"
            ]
          },
          "metadata": {},
          "execution_count": 110
        }
      ]
    },
    {
      "cell_type": "code",
      "source": [
        "sns.heatmap(df2.corr())"
      ],
      "metadata": {
        "colab": {
          "base_uri": "https://localhost:8080/",
          "height": 288
        },
        "id": "hpeEGXGaGUoZ",
        "outputId": "da07320f-b894-4474-aed2-f59728f767da"
      },
      "execution_count": null,
      "outputs": [
        {
          "output_type": "execute_result",
          "data": {
            "text/plain": [
              "<matplotlib.axes._subplots.AxesSubplot at 0x7f62989bf640>"
            ]
          },
          "metadata": {},
          "execution_count": 107
        },
        {
          "output_type": "display_data",
          "data": {
            "text/plain": [
              "<Figure size 432x288 with 2 Axes>"
            ],
            "image/png": "[encoded data removed]"
          },
          "metadata": {
            "needs_background": "light"
          }
        }
      ]
    },
    {
      "cell_type": "code",
      "source": [
        "plt.figure(figsize=(8, 12))\n",
        "heatmap = sns.heatmap(df2.corr()[['Mortality','Life_Expectancy']].sort_values(by='Life_Expectancy', ascending=False)\n",
        ", vmin=-1, vmax=1, annot=True, cmap='BrBG')\n",
        "heatmap.set_title('Features Correlating with Life Expectancy', fontdict={'fontsize':18}, pad=16);"
      ],
      "metadata": {
        "colab": {
          "base_uri": "https://localhost:8080/",
          "height": 449
        },
        "id": "Dpzcr66LGA1Y",
        "outputId": "0099d161-5c31-406e-ba9f-44e1e540f46f"
      },
      "execution_count": null,
      "outputs": [
        {
          "output_type": "error",
          "ename": "KeyError",
          "evalue": "ignored",
          "traceback": [
            "\u001b[0;31m---------------------------------------------------------------------------\u001b[0m",
            "\u001b[0;31mKeyError\u001b[0m                                  Traceback (most recent call last)",
            "\u001b[0;32m<ipython-input-53-ee7937b21e65>\u001b[0m in \u001b[0;36m<module>\u001b[0;34m\u001b[0m\n\u001b[1;32m      1\u001b[0m \u001b[0mplt\u001b[0m\u001b[0;34m.\u001b[0m\u001b[0mfigure\u001b[0m\u001b[0;34m(\u001b[0m\u001b[0mfigsize\u001b[0m\u001b[0;34m=\u001b[0m\u001b[0;34m(\u001b[0m\u001b[0;36m8\u001b[0m\u001b[0;34m,\u001b[0m \u001b[0;36m12\u001b[0m\u001b[0;34m)\u001b[0m\u001b[0;34m)\u001b[0m\u001b[0;34m\u001b[0m\u001b[0;34m\u001b[0m\u001b[0m\n\u001b[0;32m----> 2\u001b[0;31m heatmap = sns.heatmap(df2.corr()[['Mortality','Life_Expectancy']].sort_values(by='Life_Expectancy', ascending=False)\n\u001b[0m\u001b[1;32m      3\u001b[0m , vmin=-1, vmax=1, annot=True, cmap='BrBG')\n\u001b[1;32m      4\u001b[0m \u001b[0mheatmap\u001b[0m\u001b[0;34m.\u001b[0m\u001b[0mset_title\u001b[0m\u001b[0;34m(\u001b[0m\u001b[0;34m'Features Correlating with Life Expectancy'\u001b[0m\u001b[0;34m,\u001b[0m \u001b[0mfontdict\u001b[0m\u001b[0;34m=\u001b[0m\u001b[0;34m{\u001b[0m\u001b[0;34m'fontsize'\u001b[0m\u001b[0;34m:\u001b[0m\u001b[0;36m18\u001b[0m\u001b[0;34m}\u001b[0m\u001b[0;34m,\u001b[0m \u001b[0mpad\u001b[0m\u001b[0;34m=\u001b[0m\u001b[0;36m16\u001b[0m\u001b[0;34m)\u001b[0m\u001b[0;34m;\u001b[0m\u001b[0;34m\u001b[0m\u001b[0;34m\u001b[0m\u001b[0m\n",
            "\u001b[0;32m/usr/local/lib/python3.8/dist-packages/pandas/core/frame.py\u001b[0m in \u001b[0;36m__getitem__\u001b[0;34m(self, key)\u001b[0m\n\u001b[1;32m   3462\u001b[0m             \u001b[0;32mif\u001b[0m \u001b[0mis_iterator\u001b[0m\u001b[0;34m(\u001b[0m\u001b[0mkey\u001b[0m\u001b[0;34m)\u001b[0m\u001b[0;34m:\u001b[0m\u001b[0;34m\u001b[0m\u001b[0;34m\u001b[0m\u001b[0m\n\u001b[1;32m   3463\u001b[0m                 \u001b[0mkey\u001b[0m \u001b[0;34m=\u001b[0m \u001b[0mlist\u001b[0m\u001b[0;34m(\u001b[0m\u001b[0mkey\u001b[0m\u001b[0;34m)\u001b[0m\u001b[0;34m\u001b[0m\u001b[0;34m\u001b[0m\u001b[0m\n\u001b[0;32m-> 3464\u001b[0;31m             \u001b[0mindexer\u001b[0m \u001b[0;34m=\u001b[0m \u001b[0mself\u001b[0m\u001b[0;34m.\u001b[0m\u001b[0mloc\u001b[0m\u001b[0;34m.\u001b[0m\u001b[0m_get_listlike_indexer\u001b[0m\u001b[0;34m(\u001b[0m\u001b[0mkey\u001b[0m\u001b[0;34m,\u001b[0m \u001b[0maxis\u001b[0m\u001b[0;34m=\u001b[0m\u001b[0;36m1\u001b[0m\u001b[0;34m)\u001b[0m\u001b[0;34m[\u001b[0m\u001b[0;36m1\u001b[0m\u001b[0;34m]\u001b[0m\u001b[0;34m\u001b[0m\u001b[0;34m\u001b[0m\u001b[0m\n\u001b[0m\u001b[1;32m   3465\u001b[0m \u001b[0;34m\u001b[0m\u001b[0m\n\u001b[1;32m   3466\u001b[0m         \u001b[0;31m# take() does not accept boolean indexers\u001b[0m\u001b[0;34m\u001b[0m\u001b[0;34m\u001b[0m\u001b[0;34m\u001b[0m\u001b[0m\n",
            "\u001b[0;32m/usr/local/lib/python3.8/dist-packages/pandas/core/indexing.py\u001b[0m in \u001b[0;36m_get_listlike_indexer\u001b[0;34m(self, key, axis)\u001b[0m\n\u001b[1;32m   1300\u001b[0m             \u001b[0;31m# Have the index compute an indexer or return None\u001b[0m\u001b[0;34m\u001b[0m\u001b[0;34m\u001b[0m\u001b[0;34m\u001b[0m\u001b[0m\n\u001b[1;32m   1301\u001b[0m             \u001b[0;31m# if it cannot handle:\u001b[0m\u001b[0;34m\u001b[0m\u001b[0;34m\u001b[0m\u001b[0;34m\u001b[0m\u001b[0m\n\u001b[0;32m-> 1302\u001b[0;31m             \u001b[0mindexer\u001b[0m \u001b[0;34m=\u001b[0m \u001b[0max\u001b[0m\u001b[0;34m.\u001b[0m\u001b[0m_convert_listlike_indexer\u001b[0m\u001b[0;34m(\u001b[0m\u001b[0mkeyarr\u001b[0m\u001b[0;34m)\u001b[0m\u001b[0;34m\u001b[0m\u001b[0;34m\u001b[0m\u001b[0m\n\u001b[0m\u001b[1;32m   1303\u001b[0m             \u001b[0;31m# We only act on all found values:\u001b[0m\u001b[0;34m\u001b[0m\u001b[0;34m\u001b[0m\u001b[0;34m\u001b[0m\u001b[0m\n\u001b[1;32m   1304\u001b[0m             \u001b[0;32mif\u001b[0m \u001b[0mindexer\u001b[0m \u001b[0;32mis\u001b[0m \u001b[0;32mnot\u001b[0m \u001b[0;32mNone\u001b[0m \u001b[0;32mand\u001b[0m \u001b[0;34m(\u001b[0m\u001b[0mindexer\u001b[0m \u001b[0;34m!=\u001b[0m \u001b[0;34m-\u001b[0m\u001b[0;36m1\u001b[0m\u001b[0;34m)\u001b[0m\u001b[0;34m.\u001b[0m\u001b[0mall\u001b[0m\u001b[0;34m(\u001b[0m\u001b[0;34m)\u001b[0m\u001b[0;34m:\u001b[0m\u001b[0;34m\u001b[0m\u001b[0;34m\u001b[0m\u001b[0m\n",
            "\u001b[0;32m/usr/local/lib/python3.8/dist-packages/pandas/core/indexes/multi.py\u001b[0m in \u001b[0;36m_convert_listlike_indexer\u001b[0;34m(self, keyarr)\u001b[0m\n\u001b[1;32m   2609\u001b[0m             \u001b[0mmask\u001b[0m \u001b[0;34m=\u001b[0m \u001b[0mcheck\u001b[0m \u001b[0;34m==\u001b[0m \u001b[0;34m-\u001b[0m\u001b[0;36m1\u001b[0m\u001b[0;34m\u001b[0m\u001b[0;34m\u001b[0m\u001b[0m\n\u001b[1;32m   2610\u001b[0m             \u001b[0;32mif\u001b[0m \u001b[0mmask\u001b[0m\u001b[0;34m.\u001b[0m\u001b[0many\u001b[0m\u001b[0;34m(\u001b[0m\u001b[0;34m)\u001b[0m\u001b[0;34m:\u001b[0m\u001b[0;34m\u001b[0m\u001b[0;34m\u001b[0m\u001b[0m\n\u001b[0;32m-> 2611\u001b[0;31m                 \u001b[0;32mraise\u001b[0m \u001b[0mKeyError\u001b[0m\u001b[0;34m(\u001b[0m\u001b[0;34mf\"{keyarr[mask]} not in index\"\u001b[0m\u001b[0;34m)\u001b[0m\u001b[0;34m\u001b[0m\u001b[0;34m\u001b[0m\u001b[0m\n\u001b[0m\u001b[1;32m   2612\u001b[0m             \u001b[0;32melif\u001b[0m \u001b[0mis_empty_indexer\u001b[0m\u001b[0;34m(\u001b[0m\u001b[0mindexer\u001b[0m\u001b[0;34m,\u001b[0m \u001b[0mkeyarr\u001b[0m\u001b[0;34m)\u001b[0m\u001b[0;34m:\u001b[0m\u001b[0;34m\u001b[0m\u001b[0;34m\u001b[0m\u001b[0m\n\u001b[1;32m   2613\u001b[0m                 \u001b[0;31m# We get here when levels still contain values which are not\u001b[0m\u001b[0;34m\u001b[0m\u001b[0;34m\u001b[0m\u001b[0;34m\u001b[0m\u001b[0m\n",
            "\u001b[0;31mKeyError\u001b[0m: \"['Life_Expectancy'] not in index\""
          ]
        },
        {
          "output_type": "display_data",
          "data": {
            "text/plain": [
              "<Figure size 576x864 with 0 Axes>"
            ]
          },
          "metadata": {}
        }
      ]
    }
  ]
}